{
 "cells": [
  {
   "cell_type": "markdown",
   "id": "6d8a8c7a",
   "metadata": {},
   "source": [
    "# Alunos\n",
    "\n",
    "Matheus Dos Santos Palheta -22052572 <br>\n",
    "Matheus Silva dos Santos - 22052573 <br>\n",
    "Vinícius Luiz Nunes da Fonseca - 22050031"
   ]
  },
  {
   "cell_type": "markdown",
   "id": "d30b8ea8",
   "metadata": {},
   "source": [
    "## Tarefa 1"
   ]
  },
  {
   "cell_type": "markdown",
   "id": "c497c7e0",
   "metadata": {},
   "source": [
    "### Saída de instalação do PostgreSQL"
   ]
  },
  {
   "cell_type": "markdown",
   "id": "96ee8edc",
   "metadata": {},
   "source": [
    "A instalação do PostgreSQL foi feita diretamente do site oficial, inclusive dentro do container docker criado! <br>\n",
    "Foi gerado o seguinte log no terminal após a instalação:"
   ]
  },
  {
   "cell_type": "code",
   "execution_count": null,
   "id": "a21ab996",
   "metadata": {},
   "outputs": [],
   "source": [
    "!pg_config --version"
   ]
  },
  {
   "cell_type": "markdown",
   "id": "497e7912",
   "metadata": {},
   "source": [
    "## Tarefa 2"
   ]
  },
  {
   "cell_type": "markdown",
   "id": "3d93bafc",
   "metadata": {},
   "source": [
    "### Fase de preparação"
   ]
  },
  {
   "cell_type": "code",
   "execution_count": null,
   "id": "32b51cbb",
   "metadata": {},
   "outputs": [],
   "source": [
    "%cd /app/datadir/tpch/\n",
    "\n",
    "%run tpch_pgsql.py prepare"
   ]
  },
  {
   "cell_type": "markdown",
   "id": "b26e2041",
   "metadata": {},
   "source": [
    "### Fase de carregamento"
   ]
  },
  {
   "cell_type": "code",
   "execution_count": null,
   "id": "99fb557d",
   "metadata": {},
   "outputs": [],
   "source": [
    "%cd /app/datadir/tpch/\n",
    "\n",
    "%run tpch_pgsql.py load"
   ]
  },
  {
   "cell_type": "markdown",
   "id": "29100529",
   "metadata": {},
   "source": [
    "## Tarefa 3"
   ]
  },
  {
   "cell_type": "markdown",
   "id": "85393452",
   "metadata": {},
   "source": [
    "### Execução das consultas"
   ]
  },
  {
   "cell_type": "code",
   "execution_count": null,
   "id": "63bd0955",
   "metadata": {},
   "outputs": [],
   "source": [
    "%cd /app/datadir/tpch/\n",
    "\n",
    "%run tpch_pgsql.py query "
   ]
  },
  {
   "cell_type": "markdown",
   "id": "5a7269de",
   "metadata": {},
   "source": [
    "## Tarefa 4"
   ]
  },
  {
   "cell_type": "markdown",
   "id": "a78c5ba2",
   "metadata": {},
   "source": [
    "### Informações Sistema Operacional:\n",
    "\n",
    "PRETTY_NAME=\"Ubuntu 22.04.2 LTS\" <br>\n",
    "VERSION=\"22.04.2 LTS (Jammy Jellyfish)\"<br>\n",
    "ID=ubuntu<br>\n",
    "ID_LIKE=debian<br>\n",
    "HOME_URL=\"https://www.ubuntu.com/\"<br>\n",
    "SUPPORT_URL=\"https://help.ubuntu.com/\"<br>\n",
    "BUG_REPORT_URL=\"https://bugs.launchpad.net/ubuntu/\"<br>\n",
    "PRIVACY_POLICY_URL=\"https://www.ubuntu.com/legal/terms-and-policies/privacy-policy\"<br>\n",
    "UBUNTU_CODENAME=jammy<br>"
   ]
  },
  {
   "cell_type": "markdown",
   "id": "b7683be1",
   "metadata": {},
   "source": [
    "### informações CPU\n",
    "Architecture:            x86_64 <br>\n",
    "  Address sizes:         48 bits physical, 48 bits virtual<br>\n",
    "  Byte Order:            Little Endian<br>\n",
    "Vendor ID:               AuthenticAMD<br>\n",
    "  Model name:            AMD Ryzen 5 5600G with Radeon Graphics<br>\n",
    "    CPU family:          25<br>\n",
    "    Model:               80<br>\n",
    "    Thread(s) per core:  2<br>\n",
    "    Core(s) per socket:  6<br>\n",
    "    Socket(s):           1<br>\n",
    "    Stepping:            0<br>\n",
    "    BogoMIPS:            7785.09<br>"
   ]
  },
  {
   "cell_type": "markdown",
   "id": "95966847",
   "metadata": {},
   "source": [
    "### Informação memória\n",
    "\n",
    "      total        used        free      shared  buff/cache   available\n",
    "      6.7Gi       671Mi       5.2Gi        16Mi       852Mi       5.8Gi mem\n",
    "      2.0Gi          0B       2.0Gi                                     swap\n",
    "      \n",
    "      Filesystem      Size  Used Avail Use% Mounted on\n",
    "      drvfs           475G  338G  138G  72% /mnt/c"
   ]
  },
  {
   "cell_type": "markdown",
   "id": "6f552348",
   "metadata": {},
   "source": [
    "## Tarefa 5"
   ]
  },
  {
   "cell_type": "markdown",
   "id": "51eda481",
   "metadata": {},
   "source": [
    "**Resposta:** A Tarefa 5 não pôde ser respondida no Jupyter Notebook porque os computadores utilizados possuem apenas unidades de estado sólido (SSDs) e não possuem discos rígidos (HDs). Os parâmetros solicitados na tarefa são específicos dos discos rígidos e não se aplicam aos SSDs. Portanto, não foi possível coletar os dados necessários para responder à tarefa devido às diferenças técnicas entre os dois tipos de armazenamento."
   ]
  },
  {
   "cell_type": "markdown",
   "id": "e26d5f72",
   "metadata": {},
   "source": [
    "## Tarefa 6"
   ]
  },
  {
   "cell_type": "markdown",
   "id": "091a2200",
   "metadata": {},
   "source": [
    "| Característica                                 | Descrição                                                                                                                                                                                                                          |\n",
    "|-----------------------------------------------|------------------------------------------------------------------------------------------------------------------------------------------------------------------------------------------------------------------------------------|\n",
    "| Modelo de Armazenamento                        | O PostgreSQL utiliza o modelo de armazenamento relacional, baseado em tabelas, colunas e linhas, seguindo os princípios do modelo ACID (Atomicidade, Consistência, Isolamento e Durabilidade).                                      |\n",
    "| Formato de Armazenamento                       | O PostgreSQL armazena os dados em páginas de tamanho fixo (geralmente 8 KB por página), onde cada página pode conter várias tuplas. Os dados são organizados em segmentos, tablespaces e bancos de dados.                          |\n",
    "| Controle de Acesso aos Dados                   | O PostgreSQL oferece um sistema de controle de acesso robusto e flexível, permitindo a definição de permissões de acesso a nível de objeto (tabelas, colunas, etc.) e a nível de usuário/grupo.                                     |\n",
    "| Indexação de Dados                             | O PostgreSQL suporta vários tipos de índices, incluindo índices B-tree, hash, GIN (Generalized Inverted Index) e GiST (Generalized Search Tree), permitindo a otimização do acesso aos dados em diferentes cenários.               |\n",
    "| Compressão de Dados                            | O PostgreSQL oferece suporte à compressão de dados por meio de técnicas como TOAST (The Oversized-Attribute Storage Technique) e tabelas particionadas, permitindo economia de espaço de armazenamento.                             |\n",
    "| Gerenciamento de Espaço em Disco               | O PostgreSQL utiliza um sistema de gerenciamento de espaço em disco que aloca automaticamente espaço para novos dados e realiza reutilização de espaço para dados removidos ou atualizados.                                         |\n",
    "| Recuperação de Falhas (Recovery)               | O PostgreSQL possui um mecanismo de recuperação robusto, com suporte a logs de transação (WAL - Write-Ahead Logging) que permite a recuperação do banco de dados para um estado consistente após uma falha.                         |\n",
    "| Replicação de Dados                            | O PostgreSQL oferece várias opções de replicação de dados, incluindo replicação baseada em registros (Streaming Replication), replicação síncrona e assíncrona, permitindo alta disponibilidade e escalabilidade.                      |\n",
    "| Particionamento de Tabelas                     | O PostgreSQL suporta o particionamento de tabelas, permitindo que grandes conjuntos de dados sejam divididos em partições menores com base em um critério especificado, o que facilita o gerenciamento de grandes volumes de dados. |\n",
    "| Recursos Avançados de Consulta e Otimização    | O PostgreSQL possui um otimizador de consultas avançado que analisa as consultas submetidas e escolhe o plano de execução mais eficiente. Além disso, oferece recursos como estatísticas de tabelas, views materializadas e otimização de expressões.  |\n"
   ]
  },
  {
   "cell_type": "markdown",
   "id": "62a5f9cd",
   "metadata": {},
   "source": [
    "## Tarefa 7"
   ]
  },
  {
   "cell_type": "markdown",
   "id": "ddfba233",
   "metadata": {},
   "source": [
    "| Sistema de Arquivo | Descrição | Capacidade Máxima de Arquivo | Capacidade Máxima de Sistema de Arquivo | Journaling | Fragmentação | Suporte a ACLs | Compressão | Transações |\n",
    "|--------------------|-----------|------------------------------|---------------------------------------|------------|--------------|----------------|------------|------------|\n",
    "| Ext2               | O Ext2 é um sistema de arquivos de primeira geração para o Linux. | 2 TB | 4 TB | Não | Propenso à fragmentação | Não | Não | Não |\n",
    "| Ext3               | O Ext3 é uma extensão do Ext2 que adiciona journaling para maior segurança. | 2 TB | 4 TB | Sim | Propenso à fragmentação | Não | Não | Não |\n",
    "| ReiserFS           | O ReiserFS é um sistema de arquivos de alto desempenho, conhecido por sua rápida manipulação de pequenos arquivos. | 8 TB | 16 TB | Sim | Melhor desempenho com arquivos pequenos | Sim | Não | Não |\n",
    "| XFS                | O XFS é um sistema de arquivos de alto desempenho, otimizado para escalabilidade e grandes sistemas de armazenamento. | 8 EB | 8 EB | Sim | Melhor desempenho com arquivos grandes | Sim | Sim | Sim |\n",
    "\n",
    "Observações:\n",
    "\n",
    "    Capacidade máxima de arquivo refere-se ao tamanho máximo de um único arquivo suportado pelo sistema de arquivos.\n",
    "    Capacidade máxima de sistema de arquivos refere-se ao tamanho máximo total do sistema de arquivos.\n",
    "    Journaling refere-se à técnica de registro de transações para garantir a consistência dos dados após falhas de energia ou reinicializações inesperadas.\n",
    "    Fragmentação indica a tendência do sistema de arquivos em fragmentar os arquivos em várias partes físicas do disco.\n",
    "    ACLs (Access Control Lists) permitem a atribuição de permissões mais granulares a arquivos e diretórios.\n",
    "    Compressão indica se o sistema de arquivos suporta compressão de dados para economizar espaço de armazenamento.\n",
    "    Transações referem-se à capacidade do sistema de arquivos de executar operações atômicas (tudo ou nada)."
   ]
  },
  {
   "cell_type": "markdown",
   "id": "3dab85c6",
   "metadata": {},
   "source": [
    "## Tarefa 8"
   ]
  },
  {
   "cell_type": "code",
   "execution_count": 1,
   "id": "85902305",
   "metadata": {},
   "outputs": [
    {
     "name": "stdout",
     "output_type": "stream",
     "text": [
      "/app/datadir/scripts/tarefa8\n"
     ]
    }
   ],
   "source": [
    "%cd /app/datadir/scripts/tarefa8"
   ]
  },
  {
   "cell_type": "code",
   "execution_count": 7,
   "id": "5baf68a6",
   "metadata": {},
   "outputs": [
    {
     "name": "stdout",
     "output_type": "stream",
     "text": [
      "Tabelas criadas com sucesso!\n"
     ]
    }
   ],
   "source": [
    "%run create_tables.py"
   ]
  },
  {
   "cell_type": "code",
   "execution_count": 3,
   "id": "03e0b752",
   "metadata": {},
   "outputs": [
    {
     "name": "stdout",
     "output_type": "stream",
     "text": [
      "Arquivo 1 gerado com sucesso!\n",
      "\n",
      "Arquivo 1 inserido com sucesso no banco de dados!\n",
      "\n",
      "Arquivo 1 excluído com sucesso! (Para liberar espaço no disco)\n",
      "\n",
      "Tempo para criação do arquivo: 1.42 segundos\n",
      "Tempo de inserção no banco de dados: 25.64 segundos\n",
      "Tempo de execução total: 27.06 segundos\n",
      "Espaço ocupado no disco pelo arquivo: 563200000 bytes\n",
      "\n",
      "Tabela excluída com sucesso! (Para liberar espaço no banco de dados)\n"
     ]
    }
   ],
   "source": [
    "%run arquivo1.py"
   ]
  },
  {
   "cell_type": "code",
   "execution_count": 8,
   "id": "47134767",
   "metadata": {},
   "outputs": [
    {
     "name": "stdout",
     "output_type": "stream",
     "text": [
      "Arquivo 2 gerado com sucesso!\n",
      "\n",
      "Arquivo 2 inserido com sucesso no banco de dados!\n",
      "\n",
      "Arquivo 2 excluído com sucesso! (Para liberar espaço no disco)\n",
      "\n",
      "Tempo para criação do arquivo: 0.32 segundos\n",
      "Tempo de inserção no banco de dados: 2.7 segundos\n",
      "Tempo de execução total: 3.02 segundos\n",
      "Espaço ocupado no disco pelo arquivo: 92160000 bytes\n",
      "\n",
      "Tabela excluída com sucesso! (Para liberar espaço no banco de dados)\n"
     ]
    }
   ],
   "source": [
    "%run arquivo2.py"
   ]
  },
  {
   "cell_type": "code",
   "execution_count": 5,
   "id": "f6b1120f",
   "metadata": {},
   "outputs": [
    {
     "name": "stdout",
     "output_type": "stream",
     "text": [
      "Arquivo 3 gerado com sucesso!\n",
      "\n",
      "Arquivo 3 inserido com sucesso no banco de dados!\n",
      "\n",
      "Arquivo 3 excluído com sucesso! (Para liberar espaço no disco)\n",
      "\n",
      "Tempo para criação do arquivo: 8.57 segundos\n",
      "Tempo de inserção no banco de dados: 145.36 segundos\n",
      "Tempo de execução total: 153.92 segundos\n",
      "Espaço ocupado no disco pelo arquivo: 3379200000 bytes\n",
      "\n",
      "Tabela excluída com sucesso! (Para liberar espaço no banco de dados)\n"
     ]
    }
   ],
   "source": [
    "%run arquivo3.py"
   ]
  },
  {
   "cell_type": "code",
   "execution_count": 6,
   "id": "2c724565",
   "metadata": {},
   "outputs": [
    {
     "name": "stdout",
     "output_type": "stream",
     "text": [
      "Arquivo 4 gerado com sucesso!\n",
      "\n",
      "Arquivo 4 inserido com sucesso no banco de dados!\n",
      "\n",
      "Arquivo 4 excluído com sucesso! (Para liberar espaço no disco)\n",
      "\n",
      "Tempo para criação do arquivo: 237.62 segundos\n",
      "Tempo de inserção no banco de dados: 20.85 segundos\n",
      "Tempo de execução total: 258.47 segundos\n",
      "Espaço ocupado no disco pelo arquivo: 460645710 bytes\n",
      "\n",
      "Tabela excluída com sucesso! (Para liberar espaço no banco de dados)\n"
     ]
    }
   ],
   "source": [
    "%run arquivo4.py"
   ]
  },
  {
   "cell_type": "markdown",
   "id": "efba4e14",
   "metadata": {},
   "source": [
    "## Tarefa 9"
   ]
  },
  {
   "cell_type": "markdown",
   "id": "fbf008e2",
   "metadata": {},
   "source": [
    "## Tarefa 10"
   ]
  },
  {
   "cell_type": "code",
   "execution_count": null,
   "id": "ac2c73a2",
   "metadata": {},
   "outputs": [],
   "source": [
    "%cd /app/datadir/scripts/tabela_t\n",
    "\n",
    "%run cria_tabela.py"
   ]
  },
  {
   "cell_type": "markdown",
   "id": "a63c1116",
   "metadata": {},
   "source": [
    "## Tarefa 11"
   ]
  },
  {
   "cell_type": "code",
   "execution_count": null,
   "id": "6a17113a",
   "metadata": {},
   "outputs": [],
   "source": [
    "%cd /app/datadir/scripts/tabela_t\n",
    "\n",
    "%run numero_paginas.py"
   ]
  },
  {
   "cell_type": "markdown",
   "id": "f6a8dcf9",
   "metadata": {},
   "source": [
    "## Tarefa 12"
   ]
  },
  {
   "cell_type": "code",
   "execution_count": null,
   "id": "7e0f1875",
   "metadata": {},
   "outputs": [],
   "source": [
    "%cd /app/datadir/scripts/tabela_t\n",
    "\n",
    "%run numero_blocos.py"
   ]
  },
  {
   "cell_type": "markdown",
   "id": "887bb856",
   "metadata": {},
   "source": [
    "## Tarefa 13"
   ]
  },
  {
   "cell_type": "markdown",
   "id": "75e66b67",
   "metadata": {},
   "source": [
    "### Qual o tempo gasto para realizar uma consulta para um valor (tendo a tabela 100000 tuplas)?\n",
    "### Qual o tempo gasto para recriar um índice para o atributo ‘v’?\n"
   ]
  },
  {
   "cell_type": "code",
   "execution_count": null,
   "id": "2c2362e7",
   "metadata": {
    "scrolled": true
   },
   "outputs": [],
   "source": [
    "%cd /app/datadir/scripts/tabela_t\n",
    "\n",
    "%run tempo_100000.py"
   ]
  },
  {
   "cell_type": "markdown",
   "id": "bb2780ae",
   "metadata": {},
   "source": [
    "### Remova a tabela ‘t’ e crie novamente com 1.0000.000 de tuplas\n",
    "### Qual o tempo gasto para realizar uma consulta para um valor específico?\n",
    "### Qual o tempo gasto para recriar um índice para o atributo ‘v’?\n"
   ]
  },
  {
   "cell_type": "code",
   "execution_count": null,
   "id": "839ff7ee",
   "metadata": {},
   "outputs": [],
   "source": [
    "%cd /app/datadir/scripts/tabela_t\n",
    "\n",
    "%run tempo_1000000.py"
   ]
  },
  {
   "cell_type": "markdown",
   "id": "3d59f97b",
   "metadata": {},
   "source": [
    "## Tarefa 14"
   ]
  },
  {
   "cell_type": "markdown",
   "id": "d427645c",
   "metadata": {},
   "source": [
    "### 100.000 tuplas"
   ]
  },
  {
   "cell_type": "code",
   "execution_count": null,
   "id": "b0d18439",
   "metadata": {},
   "outputs": [],
   "source": [
    "%cd /app/datadir/scripts/tabela_t\n",
    "\n",
    "%run fill_factor_100000.py"
   ]
  },
  {
   "cell_type": "markdown",
   "id": "c2df3036",
   "metadata": {},
   "source": [
    "### 1.000.000 tuplas"
   ]
  },
  {
   "cell_type": "code",
   "execution_count": null,
   "id": "8b8c99aa",
   "metadata": {},
   "outputs": [],
   "source": [
    "%cd /app/datadir/scripts/tabela_t\n",
    "\n",
    "%run fill_factor_1000000.py"
   ]
  },
  {
   "cell_type": "markdown",
   "id": "087247e3",
   "metadata": {},
   "source": [
    "## Tarefa 15"
   ]
  },
  {
   "cell_type": "code",
   "execution_count": null,
   "id": "2816274c",
   "metadata": {},
   "outputs": [],
   "source": [
    "%cd /app/datadir/scripts/movie_catalog/\n",
    "\n",
    "%run cria_tabela_movie.py"
   ]
  },
  {
   "cell_type": "code",
   "execution_count": null,
   "id": "4a0d1719",
   "metadata": {},
   "outputs": [],
   "source": [
    "%cd /app/datadir/scripts/movie_catalog/\n",
    "\n",
    "%run cria_tabela_actor.py"
   ]
  },
  {
   "cell_type": "code",
   "execution_count": null,
   "id": "ba0782ee",
   "metadata": {},
   "outputs": [],
   "source": [
    "%cd /app/datadir/scripts/movie_catalog/\n",
    "\n",
    "%run cria_tabela_casting.py"
   ]
  },
  {
   "cell_type": "markdown",
   "id": "9b2916e4",
   "metadata": {},
   "source": [
    "## Tarefa 16"
   ]
  },
  {
   "cell_type": "markdown",
   "id": "ff8a648a",
   "metadata": {},
   "source": [
    "### repetindo tarefas 11, 12 e 13 com indice decrescente para 100.000 tuplas"
   ]
  },
  {
   "cell_type": "code",
   "execution_count": null,
   "id": "9c4ce49a",
   "metadata": {},
   "outputs": [],
   "source": [
    "%cd /app/datadir/scripts/tabela_t\n",
    "\n",
    "%run indice_decrescente_100000.py"
   ]
  },
  {
   "cell_type": "markdown",
   "id": "34a03e61",
   "metadata": {},
   "source": [
    "### repetindo tarefas 11, 12 e 13 com indice decrescente para 1.000.000 tuplas"
   ]
  },
  {
   "cell_type": "code",
   "execution_count": null,
   "id": "0e7e8e01",
   "metadata": {},
   "outputs": [],
   "source": [
    "%cd /app/datadir/scripts/tabela_t\n",
    "\n",
    "%run indice_decrescente_1000000.py"
   ]
  },
  {
   "cell_type": "markdown",
   "id": "c06ce0d1",
   "metadata": {},
   "source": [
    "## Tarefa 17"
   ]
  },
  {
   "cell_type": "markdown",
   "id": "1647f377",
   "metadata": {},
   "source": [
    "### Letra A\n",
    "\n",
    "Execute o script movie.sql para criar as tabelas e índices e carregar os dados necessários às próximas atividades"
   ]
  },
  {
   "cell_type": "code",
   "execution_count": null,
   "id": "bcbc5f4e",
   "metadata": {},
   "outputs": [],
   "source": [
    "%cd /app/datadir/scripts/movie_catalog/\n",
    "\n",
    "%run cria_tabela_movie.py"
   ]
  },
  {
   "cell_type": "markdown",
   "id": "dc66fe54",
   "metadata": {},
   "source": [
    "### Letra B\n",
    "\n",
    "Verifique no catálogo do banco de dados os seguintes metadados sobre os índices associados às tabelas e apresente-os no relatório: Nome do índice, nome da tabela, altura, número máximo de chaves por bloco, número médio de chaves por bloco, número de blocos folha, número de médio de blocos folha por chave, número médio de blocos de dados por chave, número de linhas e número de chaves distintas. "
   ]
  },
  {
   "cell_type": "code",
   "execution_count": null,
   "id": "37e52ebe",
   "metadata": {},
   "outputs": [],
   "source": [
    "%cd /app/datadir/scripts/movie_catalog/\n",
    "\n",
    "%run metadados_tarefa17.py"
   ]
  },
  {
   "cell_type": "markdown",
   "id": "00cc6ec7",
   "metadata": {},
   "source": [
    "## Tarefa 18"
   ]
  },
  {
   "cell_type": "markdown",
   "id": "47d2cfea",
   "metadata": {},
   "source": [
    "### Letra A\n",
    "\n",
    "Consulta em SQL sobre o atributo VOTES da tabela MOVIE que recupera um número pequeno de tuplas (<10 tuplas). Em seguida, é executado o comando EXPLAIN sobre esta consulta e apresentado os resultados."
   ]
  },
  {
   "cell_type": "code",
   "execution_count": null,
   "id": "54b09b43",
   "metadata": {},
   "outputs": [],
   "source": [
    "%cd /app/datadir/scripts/movie_catalog/\n",
    "\n",
    "%run explain_tarefa18.1.py"
   ]
  },
  {
   "cell_type": "markdown",
   "id": "728f7c86",
   "metadata": {},
   "source": [
    "### Letra B\n",
    "\n",
    "Consulta em SQL sobre o atributo VOTES da tabela MOVIE que recupera um número grande de tuplas (>80% das tuplas). Execute o comando EXPLAIN sobre esta consulta e apresente os resultados."
   ]
  },
  {
   "cell_type": "code",
   "execution_count": null,
   "id": "96d978cd",
   "metadata": {},
   "outputs": [],
   "source": [
    "%cd /app/datadir/scripts/movie_catalog/\n",
    "\n",
    "%run explain_tarefa18.2.py"
   ]
  },
  {
   "cell_type": "markdown",
   "id": "d1a7d664",
   "metadata": {},
   "source": [
    "### Letra C\n",
    "\n",
    "Explique porque o índice sobre VOTES não é sempre usado nas consultas sobre este atributo.\n",
    "\n",
    "**Resposta:** O uso de um índice em consultas sobre o atributo \"votes\" pode não ser sempre vantajoso devido a diferentes fatores, como a distribuição dos dados na coluna indexada, o tamanho da tabela e o valor de limite (LIMIT) especificado na consulta. O otimizador de consulta do PostgreSQL decide se utilizar um índice ou uma varredura sequencial com base na estimativa de custo de cada abordagem. Se a distribuição dos dados é uniforme, a tabela é pequena ou o limite é grande, pode ser mais eficiente fazer uma varredura sequencial em todos os registros em vez de usar um índice. O PostgreSQL avalia esses fatores para determinar a estratégia de execução mais eficiente em cada consulta específica.\n",
    "\n",
    "No primeiro EXPLAIN, a consulta utiliza o índice **movie_votes** na busca, conforme indicado pela linha **'Index Scan using movie_votes on movie'**. Isso significa que o otimizador de consulta do PostgreSQL decidiu utilizar o índice para melhorar a eficiência da busca dos registros que atendem à condição **'votes > 10000'**. O custo da operação de busca usando o índice foi estimado como **'cost=0.28..10.33'**.\n",
    "\n",
    "No segundo EXPLAIN, a consulta realiza uma varredura sequencial (Seq Scan) na tabela **'movie'**, conforme indicado pela linha **'Seq Scan on movie'**. Nesse caso, não está sendo utilizado um índice para a busca. A condição **'votes > 1'** é aplicada a todos os registros durante a varredura sequencial. O custo da varredura sequencial foi estimado como **'cost=0.00..38.05'**."
   ]
  },
  {
   "cell_type": "markdown",
   "id": "f3a88645",
   "metadata": {},
   "source": [
    "## Tarefa 19"
   ]
  },
  {
   "cell_type": "markdown",
   "id": "9420c46a",
   "metadata": {},
   "source": [
    "### Letra A\n",
    "\n",
    "Resultado do comando explain sobre as duas consultas abaixo:\n",
    "\n",
    "SELECT title FROM movie WHERE votes >= (SELECT MAX(votes) FROM movie); <br>\n",
    "SELECT title FROM movie WHERE votes >= ALL (SELECT votes FROM movie) ;"
   ]
  },
  {
   "cell_type": "code",
   "execution_count": null,
   "id": "a362c6b9",
   "metadata": {},
   "outputs": [],
   "source": [
    "%cd /app/datadir/scripts/movie_catalog/\n",
    "\n",
    "%run explain_tarefa19.py"
   ]
  },
  {
   "cell_type": "markdown",
   "id": "97f613ee",
   "metadata": {},
   "source": [
    "### Letra B\n",
    "\n",
    "Existe alguma diferença entre os planos de consultas? Qual das duas é mais eficiente? Explique?\n",
    "\n",
    "**Resposta:** A primeira consulta utiliza um \"Index Scan\" e é mais eficiente do que a segunda consulta, que utiliza um \"Seq Scan\". O \"Index Scan\" aproveita um índice existente na coluna \"votes\" para acessar diretamente as linhas que atendem à condição da consulta, enquanto o \"Seq Scan\" faz uma verificação sequencial em toda a tabela. Portanto, em termos de eficiência, a primeira consulta é mais recomendada. No entanto, a eficiência de uma consulta depende de vários fatores e é importante avaliar o desempenho real no contexto específico."
   ]
  },
  {
   "cell_type": "markdown",
   "id": "979fdf0a",
   "metadata": {},
   "source": [
    "## Tarefa 20\n",
    "\n",
    "Considere as duas consultas equivalentes em SQL a seguir, as quais retornam os filmes com mais votos que “Star Wars” \n",
    "\n",
    "SELECT title FROM movie WHERE votes > (SELECT votes FROM movie WHERE title = 'Star Wars'); \n",
    "\n",
    "SELECT m1.title FROM movie m1, movie m2 WHERE m1.votes > m2.votes AND m2.title = 'Star Wars';"
   ]
  },
  {
   "cell_type": "markdown",
   "id": "f349ce41",
   "metadata": {},
   "source": [
    "### Letra A\n",
    "\n",
    "Apresente o resultado do comando explain sobre as duas consultas acima"
   ]
  },
  {
   "cell_type": "code",
   "execution_count": null,
   "id": "26b62092",
   "metadata": {},
   "outputs": [],
   "source": [
    "%cd /app/datadir/scripts/movie_catalog/\n",
    "\n",
    "%run explain_tarefa20.py"
   ]
  },
  {
   "cell_type": "markdown",
   "id": "21c7a9cc",
   "metadata": {},
   "source": [
    "### Letra B\n",
    "\n",
    "Existe alguma diferença entre os planos de consultas? Qual das duas é mais eficiente? Explique?"
   ]
  },
  {
   "cell_type": "markdown",
   "id": "b084a3a8",
   "metadata": {},
   "source": [
    "Sim, existem diferencas entre as consultas. Na primeira, eh utilizado um indice para filtar os resultados e a condicao do indice eh aplicada diretamente, resultando num acesso mais eficiente dos dados com o custo entre 8.57 e 43.34. Na segunda, o plano de execução, tendo um custo estimado entre 0.56 e 49.49, utiliza \"Nested Loop\" que eh menos eficiente em comparação com o uso direto de um índice, alem de \"m1.votes > m2.vote\" envolver a comparação de duas colunas, o que pode exigir mais recursos de processamento. Em resumo, o primeiro plano de consulta apresentado tem uma estimativa de melhor desempenho quando comparado ao segundo plano de consulta."
   ]
  },
  {
   "cell_type": "markdown",
   "id": "9f66fedb",
   "metadata": {},
   "source": [
    "## Tarefa 21\n",
    "\n",
    "Considere as seguintes consultas SQL sobre o atributo  TITLE usando o operador LIKE. \n",
    "\n",
    "SELECT title FROM movie WHERE title LIKE 'I%'; \n",
    "\n",
    "SELECT title FROM movie WHERE substr(title, 1, 1) = 'I'; \n",
    "\n",
    "SELECT title FROM movie WHERE title LIKE '%A'; "
   ]
  },
  {
   "cell_type": "markdown",
   "id": "2787df20",
   "metadata": {},
   "source": [
    "### Letra A\n",
    "\n",
    "Apresente o resultado do comando explain sobre as três consultas acima"
   ]
  },
  {
   "cell_type": "code",
   "execution_count": null,
   "id": "3487ccb4",
   "metadata": {},
   "outputs": [],
   "source": [
    "%cd /app/datadir/scripts/movie_catalog/\n",
    "\n",
    "%run explain_tarefa21.py"
   ]
  },
  {
   "cell_type": "markdown",
   "id": "ce10c6a7",
   "metadata": {},
   "source": [
    "### Letra B\n",
    "\n",
    "Qual das três apresenta o menor custo? Porque?"
   ]
  },
  {
   "cell_type": "markdown",
   "id": "104e0938",
   "metadata": {},
   "source": [
    "**Resposta:** A consulta 1 eh a de menor custo. A operação LIKE é utilizada para filtrar as linhas da tabela movie onde o título começa com a letra 'I', tendo um custo de 0.00..38.05. O custo eh o menor porque a tabela eh percorrida sequencialmente (Seq Scan) e o filtro eh aplicado diretamente no campo title usando a operação. Em resumo, a primeira eh de menor custo pq aplica o LIKE diretamente no campo 'title'."
   ]
  },
  {
   "cell_type": "markdown",
   "id": "8b9f1252",
   "metadata": {},
   "source": [
    "### Letra C\n",
    "O índice sobre TITLE foi usado para todas elas? Justifique. "
   ]
  },
  {
   "cell_type": "markdown",
   "id": "fd02932c",
   "metadata": {},
   "source": [
    "## Tarefa 22 \n",
    "\n",
    "Verificação da hipótese de distribuição uniforme na estimativa de seletividade\n",
    "\n",
    "Considere as seguintes  consultas sobre o atributo TITLE da tabela MOVIE\n",
    "\n",
    "SELECT title FROM movie WHERE votes < 1000; \n",
    "\n",
    "SELECT title FROM movie WHERE votes > 40000;\n"
   ]
  },
  {
   "cell_type": "markdown",
   "id": "4340f8c0",
   "metadata": {},
   "source": [
    "### Letra A\n",
    "Apresente o resultado do comando explain sobre as duas consultas acima. Explique o resultado."
   ]
  },
  {
   "cell_type": "code",
   "execution_count": null,
   "id": "2b8cbe1b",
   "metadata": {},
   "outputs": [],
   "source": [
    "%cd /app/datadir/scripts/movie_catalog/\n",
    "\n",
    "%run explain_tarefa22.py"
   ]
  },
  {
   "cell_type": "markdown",
   "id": "0eb700f3",
   "metadata": {},
   "source": [
    "**Resposta:** As duas utilizam um indice para otimizar a consulta, sendo ele \"movie_votes\". Na primeira consulta, o custo eh de 20.02 unidades, com um custo inicial de 0.28 para acessar o indice e o resto do custo eh para acessar as linhas de movie. Na segunda consulta, o custo total eh de 8.42 com um custo inicial de 0.28 para acessar o indice e o resto para acessar as linhas de movie. A diferenca entre os custos da-se pela forma como as consultas foram realizadas: a primeira busca \"menores que\" e a segunda busca \"maiores que\". As buscas utilizando \">\" sao mais eficientes porque os intervalos na arvore sao ordenados de forma crescente, permitindo que a consulta 2 seja mais eficiente."
   ]
  },
  {
   "cell_type": "markdown",
   "id": "7b48c1ea",
   "metadata": {},
   "source": [
    "### Letra B\n",
    "Compare o número de tuplas selecionadas por cada consulta. Qual das duas tem a menor seletividade?"
   ]
  },
  {
   "cell_type": "markdown",
   "id": "fab362d8",
   "metadata": {},
   "source": [
    "**Resposta:** \n",
    "\n",
    "Primeira consulta: 328 linhas.\n",
    "Segunda consulta: 8 linhas. \n",
    "\n",
    "Com base nesses estimatias, a Consulta 2 tem menor seletividade porque espera-se que retorne menos linhas em comparacao à Consulta 1."
   ]
  },
  {
   "cell_type": "markdown",
   "id": "2a5d2550",
   "metadata": {},
   "source": [
    "# PARTE V"
   ]
  },
  {
   "cell_type": "markdown",
   "id": "4a61dae6",
   "metadata": {},
   "source": [
    "## Tarefa 23"
   ]
  },
  {
   "cell_type": "markdown",
   "id": "84a78af7",
   "metadata": {},
   "source": [
    "## Tarefa 24"
   ]
  },
  {
   "cell_type": "markdown",
   "id": "cc7dff2c",
   "metadata": {},
   "source": [
    "## Tarefa 25"
   ]
  },
  {
   "cell_type": "markdown",
   "id": "41ee395f",
   "metadata": {},
   "source": [
    "## Tarefa 26"
   ]
  }
 ],
 "metadata": {
  "kernelspec": {
   "display_name": "Python 3 (ipykernel)",
   "language": "python",
   "name": "python3"
  },
  "language_info": {
   "codemirror_mode": {
    "name": "ipython",
    "version": 3
   },
   "file_extension": ".py",
   "mimetype": "text/x-python",
   "name": "python",
   "nbconvert_exporter": "python",
   "pygments_lexer": "ipython3",
   "version": "3.10.6"
  }
 },
 "nbformat": 4,
 "nbformat_minor": 5
}
