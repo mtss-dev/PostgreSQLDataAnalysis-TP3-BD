{
 "cells": [
  {
   "cell_type": "markdown",
   "id": "6d8a8c7a",
   "metadata": {},
   "source": [
    "# Alunos\n",
    "\n",
    "Matheus Dos Santos Palheta -22052572 <br>\n",
    "Matheus Silva dos Santos - 22052573 <br>\n",
    "Vinícius Luiz Nunes da Fonseca - 22050031"
   ]
  },
  {
   "cell_type": "markdown",
   "id": "d30b8ea8",
   "metadata": {},
   "source": [
    "## Tarefa 1"
   ]
  },
  {
   "cell_type": "markdown",
   "id": "c497c7e0",
   "metadata": {},
   "source": [
    "### Saída de instalação do PostgreSQL"
   ]
  },
  {
   "cell_type": "markdown",
   "id": "96ee8edc",
   "metadata": {},
   "source": [
    "A instalação do PostgreSQL foi feita diretamente do site oficial, inclusive dentro do container docker criado! <br>\n",
    "Foi gerado o seguinte log no terminal após a instalação:"
   ]
  },
  {
   "cell_type": "code",
   "execution_count": 1,
   "id": "a21ab996",
   "metadata": {},
   "outputs": [
    {
     "name": "stdout",
     "output_type": "stream",
     "text": [
      "PostgreSQL 15.3 (Ubuntu 15.3-1.pgdg22.04+1)\r\n"
     ]
    }
   ],
   "source": [
    "!pg_config --version"
   ]
  },
  {
   "cell_type": "markdown",
   "id": "497e7912",
   "metadata": {},
   "source": [
    "## Tarefa 2"
   ]
  },
  {
   "cell_type": "markdown",
   "id": "3d93bafc",
   "metadata": {},
   "source": [
    "### Fase de preparação"
   ]
  },
  {
   "cell_type": "code",
   "execution_count": 4,
   "id": "32b51cbb",
   "metadata": {},
   "outputs": [
    {
     "name": "stdout",
     "output_type": "stream",
     "text": [
      "/app/datadir/tpch\n",
      "gcc -g -DDBNAME=\\\"dss\\\" -DLINUX -DORACLE -DTPCH -DRNG_TEST -D_FILE_OFFSET_BITS=64   -c -o build.o build.c\n",
      "gcc -g -DDBNAME=\\\"dss\\\" -DLINUX -DORACLE -DTPCH -DRNG_TEST -D_FILE_OFFSET_BITS=64   -c -o driver.o driver.c\n",
      "gcc -g -DDBNAME=\\\"dss\\\" -DLINUX -DORACLE -DTPCH -DRNG_TEST -D_FILE_OFFSET_BITS=64   -c -o bm_utils.o bm_utils.c\n",
      "gcc -g -DDBNAME=\\\"dss\\\" -DLINUX -DORACLE -DTPCH -DRNG_TEST -D_FILE_OFFSET_BITS=64   -c -o rnd.o rnd.c\n",
      "gcc -g -DDBNAME=\\\"dss\\\" -DLINUX -DORACLE -DTPCH -DRNG_TEST -D_FILE_OFFSET_BITS=64   -c -o print.o print.c\n"
     ]
    },
    {
     "name": "stderr",
     "output_type": "stream",
     "text": [
      "bm_utils.c: In function ‘tbl_open’:\n",
      "bm_utils.c:404:51: warning: ‘%s’ directive writing up to 255 bytes into a region of size 231 [-Wformat-overflow=]\n",
      "  404 |         sprintf(prompt, \"Do you want to overwrite %s ?\", fullpath);\n",
      "      |                                                   ^~     ~~~~~~~~\n",
      "bm_utils.c:404:9: note: ‘sprintf’ output between 28 and 283 bytes into a destination of size 256\n",
      "  404 |         sprintf(prompt, \"Do you want to overwrite %s ?\", fullpath);\n",
      "      |         ^~~~~~~~~~~~~~~~~~~~~~~~~~~~~~~~~~~~~~~~~~~~~~~~~~~~~~~~~~\n"
     ]
    },
    {
     "name": "stdout",
     "output_type": "stream",
     "text": [
      "gcc -g -DDBNAME=\\\"dss\\\" -DLINUX -DORACLE -DTPCH -DRNG_TEST -D_FILE_OFFSET_BITS=64   -c -o load_stub.o load_stub.c\n",
      "gcc -g -DDBNAME=\\\"dss\\\" -DLINUX -DORACLE -DTPCH -DRNG_TEST -D_FILE_OFFSET_BITS=64   -c -o bcd2.o bcd2.c\n",
      "gcc -g -DDBNAME=\\\"dss\\\" -DLINUX -DORACLE -DTPCH -DRNG_TEST -D_FILE_OFFSET_BITS=64   -c -o speed_seed.o speed_seed.c\n",
      "gcc -g -DDBNAME=\\\"dss\\\" -DLINUX -DORACLE -DTPCH -DRNG_TEST -D_FILE_OFFSET_BITS=64   -c -o text.o text.c\n",
      "gcc -g -DDBNAME=\\\"dss\\\" -DLINUX -DORACLE -DTPCH -DRNG_TEST -D_FILE_OFFSET_BITS=64   -c -o permute.o permute.c\n",
      "gcc -g -DDBNAME=\\\"dss\\\" -DLINUX -DORACLE -DTPCH -DRNG_TEST -D_FILE_OFFSET_BITS=64   -c -o rng64.o rng64.c\n",
      "gcc -g -DDBNAME=\\\"dss\\\" -DLINUX -DORACLE -DTPCH -DRNG_TEST -D_FILE_OFFSET_BITS=64 -O -o dbgen build.o driver.o bm_utils.o rnd.o print.o load_stub.o bcd2.o speed_seed.o text.o permute.o rng64.o -lm\n",
      "gcc -g -DDBNAME=\\\"dss\\\" -DLINUX -DORACLE -DTPCH -DRNG_TEST -D_FILE_OFFSET_BITS=64   -c -o qgen.o qgen.c\n",
      "gcc -g -DDBNAME=\\\"dss\\\" -DLINUX -DORACLE -DTPCH -DRNG_TEST -D_FILE_OFFSET_BITS=64   -c -o varsub.o varsub.c\n"
     ]
    },
    {
     "name": "stderr",
     "output_type": "stream",
     "text": [
      "In file included from qgen.c:41:\n",
      "qgen.c: In function ‘qsub’:\n",
      "tpcd.h:76:19: warning: zero-length gnu_printf format string [-Wformat-zero-length]\n",
      "   76 | #define SET_DBASE \"\"\n",
      "      |                   ^~\n",
      "qgen.c:197:38: note: in expansion of macro ‘SET_DBASE’\n",
      "  197 |                         fprintf(ofp, SET_DBASE, db_name);\n",
      "      |                                      ^~~~~~~~~\n",
      "TPC-H Population Generator (Version 2.14.0)\n",
      "Copyright Transaction Processing Performance Council 1994 - 2010\n",
      "Generating data for suppliers table/\b\n",
      "Preloading text ...   0%\b\b\b\b  0%\b\b\b\b  0%\b\b\b\b  0%\b\b\b\b  0%\b\b\b\b  0%\b\b\b\b  0%\b\b\b\b  0%\b\b\b\b  1%\b\b\b\b  1%\b\b\b\b  1%\b\b\b\b  1%\b\b\b\b  1%\b\b\b\b  1%\b\b\b\b  1%\b\b\b\b  1%\b\b\b\b  1%\b\b\b\b  1%\b\b\b\b  1%\b\b\b\b  1%\b\b\b\b  1%\b\b\b\b  1%\b\b\b\b  1%\b\b\b\b  1%\b\b\b\b  2%\b\b\b\b  2%\b\b\b\b  2%\b\b\b\b  2%\b\b\b\b  2%\b\b\b\b  2%\b\b\b\b  2%\b\b\b\b  2%\b\b\b\b  2%\b\b\b\b  2%\b\b\b\b  2%\b\b\b\b  2%\b\b\b\b  2%\b\b\b\b  2%\b\b\b\b  2%\b\b\b\b  2%\b\b\b\b  3%\b\b\b\b  3%\b\b\b\b  3%\b\b\b\b  3%\b\b\b\b  3%\b\b\b\b  3%\b\b\b\b  3%\b\b\b\b  3%\b\b\b\b  3%\b\b\b\b  3%\b\b\b\b  3%\b\b\b\b  3%\b\b\b\b  3%\b\b\b\b  3%\b\b\b\b  3%\b\b\b\b  3%\b\b\b\b  4%\b\b\b\b  4%\b\b\b\b  4%\b\b\b\b  4%\b\b\b\b  4%\b\b\b\b  4%\b\b\b\b  4%\b\b\b\b  4%\b\b\b\b"
     ]
    },
    {
     "name": "stdout",
     "output_type": "stream",
     "text": [
      "gcc -g -DDBNAME=\\\"dss\\\" -DLINUX -DORACLE -DTPCH -DRNG_TEST -D_FILE_OFFSET_BITS=64 -O -o qgen build.o bm_utils.o qgen.o rnd.o varsub.o text.o bcd2.o permute.o speed_seed.o rng64.o -lm\n",
      "built dbgen from source\n"
     ]
    },
    {
     "name": "stderr",
     "output_type": "stream",
     "text": [
      "                                                                                                                                                                             1 1 1 1 1 1 1 1 1 1 1 1 1 1 1 1 1 1 1 1 1 1 1 1 1 1 1 1 1 1 1 1 1 1 1 1 1 1 1 1 1 1 1 1 1 1 1 1 1 1 1 1 1 1 1 1 1 1 1 1 1 1 1 1 1 1 1 1 1 1 1 1 1 1 1 1 1 1 1 1 1 1 1 1 1 1 1 1 1 1 1 1 1 1 1 1 1 1 1 1 1 1 1 1 1 1 1 1 1 1 1 1 1 1 1 1 1 1 1 1 1 1 1 1 1 1 1 1 1 1 1 1 1 1 1 1 1 1 1 1 1 1 1 1 1 1 1 1 1 1 1 1 1 1 1 1 1 2 2 2 2 2 2 2 2 2 2 2 2 2 2 2 2 2 2 2 2 2 2 2 2 2 2 2 2 2 2 2 2 2 2 2 2 2 2 2 2 2 2 2 2 2 2 2 2 2 2 2 2 2 2 2 2 2 2 2 2 2 2 2 2 2 2 2 2 2 2 2 2 2 2 2 2 2 2 2 2 2 2 2 2 2 2 2 2 2 2 2 2 2 2 2 2 2 2 2 2 2 2 2 2 2 2 2 2 2 2 2 2 2 2 2 2 2 2 2 2 2 2 2 2 2 2 2 2 2 2 2 2 2 2 2 2 2 2 2 2 2 2 2 2 2 2 2 2 2 2 2 2 2 2 2 2 2 3 3 3 3 3 3 3 3 3 3 3 3 3 3 3 3 3 3 3 3 3 3 3 3 3 3 3 3 3 3 3 3 3 3 3 3 3 3 3 3 3 3 3 3 3 3 3 3 3 3 3 3 3 3 3 3 3 3 3 3 3 3 3 3 3 3 3 3 3 3 3 3 3 3 3 3 3 3 3 3 3 3 3 3 3 3 3 3 3 3 3 3 3 3 3 3 3 3 3 3 3 3 3 3 3 3 3 3 3 3 3 3 3 3 3 3 3 3 3 3 3 3 3 3 3 3 3 3 3 3 3 3 3 3 3 3 3 3 3 3 3 3 3 3 3 3 3 3 3 3 3 3 3 3 3 3 3 3 4 4 4 4 4 4 4 4 4 4 4 4 4 4 4 4 4 4 4 4 4 4 4 4 4 4 4 4 4 4 4 4 4 4 4 4 4 4 4 4 4 4 4 4 4 4 4 4 4 4 4 4 4 4 4 4 4 4 4 4 4 4 4 4 4 4 4 4 4 4 4 4 4 4 4 4 4 4 4 4 4 4 4 4 4 4 4 4 4 4 4 4 4 4 4 4 4 4 4 4 4 4 4 4 4 4 4 4 4 4 4 4 4 4 4 4 4 4 4 4 4 4 4 4 4 4 4 4 4 4 4 4 4 4 4 4 4 4 4 4 4 4 4 4 4 4 4 4 4 4 4 4 4 4 4 4 4 5 5 5 5 5 5 5 5 5 5 5 5 5 5 5 5 5 5 5 5 5 5 5 5 5 5 5 5 5 5 5 5 5 5 5 5 5 5 5 5 5 5 5 5 5 5 5 5 5 5 5 5 5 5 5 5 5 5 5 5 5 5 5 5 5 5 5 5 5 5 5 5 5 5 5 5 5 5 5 5 5 5 5 5 5 5 5 5 5 5 5 5 5 5 5 5 5 5 5 5 5 5 5 5 5 5 5 5 5 5 5 5 5 5 5 5 5 5 5 5 5 5 5 5 5 5 5 5 5 5 5 5 5 5 5 5 5 5 5 5 5 5 5 5 5 5 5 5 5 5 5 5 5 5 5 5 5 6 6 6 6 6 6 6 6 6 6 6 6 6 6 6 6 6 6 6 6 6 6 6 6 6 6 6 6 6 6 6 6 6 6 6 6 6 6 6 6 6 6 6 6 6 6 6 6 6 6 6 6 6 6 6 6 6 6 6 6 6 6 6 6 6 6 6 6 6 6 6 6 6 6 6 6 6 6 6 6 6 6 6 6 6 6 6 6 6 6 6 6 6 6 6 6 6 6 6 6 6 6 6 6 6 6 6 6 6 6 6 6 6 6 6 6 6 6 6 6 6 6 6 6 6 6 6 6 6 6 6 6 6 6 6 6 6 6 6 6 6 6 6 6 6 6 6 6 6 6 6 6 6 6 6 6 6 6 7 7 7 7 7 7 7 7 7 7 7 7 7 7 7 7 7 7 7 7 7 7 7 7 7 7 7 7 7 7 7 7 7 7 7 7 7 7 7 7 7 7 7 7 7 7 7 7 7 7 7 7 7 7 7 7 7 7 7 7 7 7 7 7 7 7 7 7 7 7 7 7 7 7 7 7 7 7 7 7 7 7 7 7 7 7 7 7 7 7 7 7 7 7 7 7 7 7 7 7 7 7 7 7 7 7 7 7 7 7 7 7 7 7 7 7 7 7 7 7 7 7 7 7 7 7 7 7 7 7 7 7 7 7 7 7 7 7 7 7 7 7 7 7 7 7 7 7 7 7 7 7 7 7 7 7 7 8 8 8 8 8 8 8 8 8 8 8 8 8 8 8 8 8 8 8 8 8 8 8 8 8 8 8 8 8 8 8 8 8 8 8 8 8 8 8 8 8 8 8 8 8 8 8 8 8 8 8 8 8 8 8 8 8 8 8 8 8 8 8 8 8 8 8 8 8 8 8 8 8 8 8 8 8 8 8 8 8 8 8 8 8 8 8 8 8 8 8 8 8 8 8 8 8 8 8 8 8 8 8 8 8 8 8 8 8 8 8 8 8 8 8 8 8 8 8 8 8 8 8 8 8 8 8 8 8 8 8 8 8 8 8 8 8 8 8 8 8 8 8 8 8 8 8 8 8 8 8 8 8 8 8 8 8 9 9 9 9 9 9 9 9 9 9 9 9 9 9 9 9 9 9 9 9 9 9 9 9 9 9 9 9 9 9 9 9 9 9 9 9 9 9 9 9 9 9 9 9 9 9 9 9 9 9 9 9 9 9 9 9 9 9 9 9 9 9 9 9 9 9 9 9 9 9 9 9 9 9 9 9 9 9 9 9 9 9 9 9 9 9 9 9 9 9 9 9 9 9 9 9 9 9 9 9 9 9 9 9 9 9 9 9 9 9 9 9 9 9 9 9 9 9 9 9 9 9 9 9 9 9 9 9 9 9 9 9 9 9 9 9 9 9 9 9 9 9 9 9 9 9 9 9 9 9 9 9 9 9 9 9 91010101010101010\n",
      "done.\n",
      "Generating data for customers tabledone.\n",
      "Generating data for orders/lineitem tablesdone.\n",
      "Generating data for part/partsupplier tablesdone.\n",
      "Generating data for nation tabledone.\n",
      "Generating data for region tabledone.\n"
     ]
    },
    {
     "name": "stdout",
     "output_type": "stream",
     "text": [
      "generated data for the load phase\n"
     ]
    },
    {
     "name": "stderr",
     "output_type": "stream",
     "text": [
      "TPC-H Population Generator (Version 2.14.0)\n",
      "Copyright Transaction Processing Performance Council 1994 - 2010\n",
      "Generating update pair #1 for orders/lineitem tables\n",
      "Preloading text ...                                                                                                                                                                                                                                                                                                              1 1 1 1 1 1 1 1 1 1 1 1 1 1 1 1 1 1 1 1 1 1 1 1 1 1 1 1 1 1 1 1 1 1 1 1 1 1 1 1 1 1 1 1 1 1 1 1 1 1 1 1 1 1 1 1 1 1 1 1 1 1 1 1 1 1 1 1 1 1 1 1 1 1 1 1 1 1 1 1 1 1 1 1 1 1 1 1 1 1 1 1 1 1 1 1 1 1 1 1 1 1 1 1 1 1 1 1 1 1 1 1 1 1 1 1 1 1 1 1 1 1 1 1 1 1 1 1 1 1 1 1 1 1 1 1 1 1 1 1 1 1 1 1 1 1 1 1 1 1 1 1 1 1 1 1 1 2 2 2 2 2 2 2 2 2 2 2 2 2 2 2 2 2 2 2 2 2 2 2 2 2 2 2 2 2 2 2 2 2 2 2 2 2 2 2 2 2 2 2 2 2 2 2 2 2 2 2 2 2 2 2 2 2 2 2 2 2 2 2 2 2 2 2 2 2 2 2 2 2 2 2 2 2 2 2 2 2 2 2 2 2 2 2 2 2 2 2 2 2 2 2 2 2 2 2 2 2 2 2 2 2 2 2 2 2 2 2 2 2 2 2 2 2 2 2 2 2 2 2 2 2 2 2 2 2 2 2 2 2 2 2 2 2 2 2 2 2 2 2 2 2 2 2 2 2 2 2 2 2 2 2 2 2 3 3 3 3 3 3 3 3 3 3 3 3 3 3 3 3 3 3 3 3 3 3 3 3 3 3 3 3 3 3 3 3 3 3 3 3 3 3 3 3 3 3 3 3 3 3 3 3 3 3 3 3 3 3 3 3 3 3 3 3 3 3 3 3 3 3 3 3 3 3 3 3 3 3 3 3 3 3 3 3 3 3 3 3 3 3 3 3 3 3 3 3 3 3 3 3 3 3 3 3 3 3 3 3 3 3 3 3 3 3 3 3 3 3 3 3 3 3 3 3 3 3 3 3 3 3 3 3 3 3 3 3 3 3 3 3 3 3 3 3 3 3 3 3 3 3 3 3 3 3 3 3 3 3 3 3 3 3 4 4 4 4 4 4 4 4 4 4 4 4 4 4 4 4 4 4 4 4 4 4 4 4 4 4 4 4 4 4 4 4 4 4 4 4 4 4 4 4 4 4 4 4 4 4 4 4 4 4 4 4 4 4 4 4 4 4 4 4 4 4 4 4 4 4 4 4 4 4 4 4 4 4 4 4 4 4 4 4 4 4 4 4 4 4 4 4 4 4 4 4 4 4 4 4 4 4 4 4 4 4 4 4 4 4 4 4 4 4 4 4 4 4 4 4 4 4 4 4 4 4 4 4 4 4 4 4 4 4 4 4 4 4 4 4 4 4 4 4 4 4 4 4 4 4 4 4 4 4 4 4 4 4 4 4 4 5 5 5 5 5 5 5 5 5 5 5 5 5 5 5 5 5 5 5 5 5 5 5 5 5 5 5 5 5 5 5 5 5 5 5 5 5 5 5 5 5 5 5 5 5 5 5 5 5 5 5 5 5 5 5 5 5 5 5 5 5 5 5 5 5 5 5 5 5 5 5 5 5 5 5 5 5 5 5 5 5 5 5 5 5 5 5 5 5 5 5 5 5 5 5 5 5 5 5 5 5 5 5 5 5 5 5 5 5 5 5 5 5 5 5 5 5 5 5 5 5 5 5 5 5 5 5 5 5 5 5 5 5 5 5 5 5 5 5 5 5 5 5 5 5 5 5 5 5 5 5 5 5 5 5 5 5 6 6 6 6 6 6 6 6 6 6 6 6 6 6 6 6 6 6 6 6 6 6 6 6 6 6 6 6 6 6 6 6 6 6 6 6 6 6 6 6 6 6 6 6 6 6 6 6 6 6 6 6 6 6 6 6 6 6 6 6 6 6 6 6 6 6 6 6 6 6 6 6 6 6 6 6 6 6 6 6 6 6 6 6 6 6 6 6 6 6 6 6 6 6 6 6 6 6 6 6 6 6 6 6 6 6 6 6 6 6 6 6 6 6 6 6 6 6 6 6 6 6 6 6 6 6 6 6 6 6 6 6 6 6 6 6 6 6 6 6 6 6 6 6 6 6 6 6 6 6 6 6 6 6 6 6 6 6 7 7 7 7 7 7 7 7 7 7 7 7 7 7 7 7 7 7 7 7 7 7 7 7 7 7 7 7 7 7 7 7 7 7 7 7 7 7 7 7 7 7 7 7 7 7 7 7 7 7 7 7 7 7 7 7 7 7 7 7 7 7 7 7 7 7 7 7 7 7 7 7 7 7 7 7 7 7 7 7 7 7 7 7 7 7 7 7 7 7 7 7 7 7 7 7 7 7 7 7 7 7 7 7 7 7 7 7 7 7 7 7 7 7 7 7 7 7 7 7 7 7 7 7 7 7 7 7 7 7 7 7 7 7 7 7 7 7 7 7 7 7 7 7 7 7 7 7 7 7 7 7 7 7 7 7 7 8 8 8 8 8 8 8 8 8 8 8 8 8 8 8 8 8 8 8 8 8 8 8 8 8 8 8 8 8 8 8 8 8 8 8 8 8 8 8 8 8 8 8 8 8 8 8 8 8 8 8 8 8 8 8 8 8 8 8 8 8 8 8 8 8 8 8 8 8 8 8 8 8 8 8 8 8 8 8 8 8 8 8 8 8 8 8 8 8 8 8 8 8 8 8 8 8 8 8 8 8 8 8 8 8 8 8 8 8 8 8 8 8 8 8 8 8 8 8 8 8 8 8 8 8 8 8 8 8 8 8 8 8 8 8 8 8 8 8 8 8 8 8 8 8 8 8 8 8 8 8 8 8 8 8 8 8 9 9 9 9 9 9 9 9 9 9 9 9 9 9 9 9 9 9 9 9 9 9 9 9 9 9 9 9 9 9 9 9 9 9 9 9 9 9 9 9 9 9 9 9 9 9 9 9 9 9 9 9 9 9 9 9 9 9 9 9 9 9 9 9 9 9 9 9 9 9 9 9 9 9 9 9 9 9 9 9 9 9 9 9 9 9 9 9 9 9 9 9 9 9 9 9 9 9 9 9 9 9 9 9 9 9 9 9 9 9 9 9 9 9 9 9 9 9 9 9 9 9 9 9 9 9"
     ]
    },
    {
     "name": "stdout",
     "output_type": "stream",
     "text": [
      "generated data for the update phase\n",
      "generated data for the delete phase\n",
      "created data files in ./data\n",
      "created query files in ./query_root\n"
     ]
    },
    {
     "name": "stderr",
     "output_type": "stream",
     "text": [
      " 98%\b\b\b\b 98%\b\b\b\b 98%\b\b\b\b 98%\b\b\b\b 98%\b\b\b\b 98%\b\b\b\b 98%\b\b\b\b 98%\b\b\b\b 98%\b\b\b\b 98%\b\b\b\b 98%\b\b\b\b 98%\b\b\b\b 98%\b\b\b\b 98%\b\b\b\b 98%\b\b\b\b 98%\b\b\b\b 99%\b\b\b\b 99%\b\b\b\b 99%\b\b\b\b 99%\b\b\b\b 99%\b\b\b\b 99%\b\b\b\b 99%\b\b\b\b 99%\b\b\b\b 99%\b\b\b\b 99%\b\b\b\b 99%\b\b\b\b 99%\b\b\b\b 99%\b\b\b\b 99%\b\b\b\b 99%\b\b\b\b100%\b\b\b\b100%\b\b\b\b100%\b\b\b\b100%\b\b\b\b100%\b\b\b\b100%\b\b\b\b100%\b\b\b\b100%\b\b\b\b\n",
      "-\b\\\b|\b/\b-\b\\\b|\b/\b-\b\\\b|\b/\b-\b\\\b|\b/\b-\b\\\b|\b/\b-\b\\\b|\b/\b-\b\\\b|\b/\b-\b\\\b|\b/\b-\b\\\b|\b/\b-\b\\\b|\b/\b-\b\\\b|\b/\b|\b-\b\\\b|\b/\b-\b\\\b|\b/\b-\b\\\b|\b/\b-\b\\\b|\b/\b-\b\\\b|\b/\b-\b\\\b|\b/\b-\b\\\b|\b/\b-\b\\\b|\b/\b-\b\\\b|\b/\b-\b\\\b|\b/\b-\b\\\b|\b/\b-\b\\\b|\b/\b-\b\\\b|\b|\b/\b-\b\\\b|\b/\b-\b\\\b|\b/\b-\b\\\b|\b/\b-\b\\\b|\b/\b-\b\\\b|\b/\b-\b\\\b|\b/\b-\b\\\b|\b/\b-\b\\\b|\b/\b-\b\\\b|\b/\b-\b\\\b|\b/\b-\b\\\b|\b/\b-\b\\\b|\b/\b|\b-\b\\\b|\b/\b-\b\\\b|\b/\b-\b\\\b|\b/\b-\b\\\b|\b/\b-\b\\\b|\b/\b-\b\\\b|\b/\b-\b\\\b|\b/\b-\b\\\b|\b/\b-\b\\\b|\b/\b-\b\\\b|\b/\b-\b\\\b|\b/\b-\b\\\b|\b/\b-\b\\\b|\b|\b/\b-\b\\\b|\b/\b-\b\\\b|\b/\b-\b\\\b|\b/\b-\b\\\b|\b/\b-\b\\\b|\b/\b-\b\\\b|\b/\b-\b\\\b|\b/\b-\b\\\b|\b/\b-\b\\\b|\b/\b-\b\\\b|\b/\b-\b\\\b|\b/\b-\b\\\b|\b/\b|\b-\b\\\b|\b/\b-\b\\\b|\b/\b-\b\\\b|\b/\b-\b\\\b|\b/\b-\b\\\b|\b/\b-\b\\\b|\b/\b-\b\\\b|\b/\b-\b\\\b|\b/\b-\b\\\b|\b/\b-\b\\\b|\b/\b-\b\\\b|\b/\b-\b\\\b|\b/\b-\b\\\b|\b|\b/\b-\b\\\b|\b/\b-\b\\\b|\b/\b-\b\\\b|\b/\b-\b\\\b|\b/\b-\b\\\b|\b/\b-\b\\\b|\b/\b-\b\\\b|\b/\b-\b\\\b|\b/\b-\b\\\b|\b/\b-\b\\\b|\b/\b-\b\\\b|\b/\b-\b\\\b|\b/\b|\b-\b\\\b|\b/\b-\b\\\b|\b/\b-\b\\\b|\b/\b-\b\\\b|\b/\b-\b\\\b|\b/\b-\b\\\b|\b/\b-\b\\\b|\b/\b-\b\\\b|\b/\b-\b\\\b|\b/\b-\b\\\b|\b/\b-\b\\\b|\b/\b-\b\\\b|\b/\b-\b\\\b|\b|\b/\b-\b\\\b|\b/\b-\b\\\b|\b/\b-\b\\\b|\b/\b-\b\\\b|\b/\b-\b\\\b|\b/\b-\b\\\b|\b/\b-\b\\\b|\b/\b-\b\\\b|\b/\b-\b\\\b|\b/\b-\b\\\b|\b/\b-\b\\\b|\b/\b-\b\\\b|\b/\b|\b-\b\\\b|\b/\b-\b\\\b|\b/\b-\b\\\b|\b/\b-\b\\\b|\b/\b-\b\\\b|\b/\b-\b\\\b|\b/\b-\b\\\b|\b/\b-\b\\\b|\b/\b-\b\\\b|\b/\b-\b\\\b|\b/\b-\b\\\b|\b/\b-\b\\\b|\b/\b-\b\\\b|\b|\b/\b-\b\\\b|\b/\b-\b\\\b|\b/\b-\b\\\b|\b/\b-\b\\\b|\b/\b-\b\\\b|\b/\b-\b\\\b|\b/\b-\b\\\b|\b/\b-\b\\\b|\b/\b-\b\\\b|\b/\b-\b\\\b|\b/\b-\b\\\b|\b/\b-\b\\\b|\b/\b|\b-\b\\\b|\b/\b-\b\\\b|\b/\b-\b\\\b|\b/\b-\b\\\b|\b/\b-\b\\\b|\b/\b-\b\\\b|\b/\b-\b\\\b|\b/\b-\b\\\b|\b/\b-\b\\\b|\b/\b-\b\\\b|\b/\b-\b\\\b|\b/\b-\b\\\b|\b/\b-\b\\\b|\b|\b/\b-\b\\\b|\b/\b-\b\\\b|\b/\b-\b\\\b|\b/\b-\b\\\b|\b/\b-\b\\\b|\b/\b-\b\\\b|\b/\b-\b\\\b|\b/\b-\b\\\b|\b/\b-\b\\\b|\b/\b-\b\\\b|\b/\b-\b\\\b|\b/\b-\b\\\b|\b/\b|\b-\b\\\b|\b/\b-\b\\\b|\b/\b-\b\\\b|\b/\b-\b\\\b|\b/\b-\b\\\b|\b/\b-\b\\\b|\b/\b-\b\\\b|\b/\b-\b\\\b|\b/\b-\b\\\b|\b/\b-\b\\\b|\b/\b-\b\\\b|\b/\b-\b\\\b|\b/\b-\b\\\b|\b|\b/\b-\b\\\b|\b/\b-\b\\\b|\b/\b-\b\\\b|\b/\b-\b\\\b|\b/\b-\b\\\b|\b/\b-\b\\\b|\b/\b-\b\\\b|\b/\b-\b\\\b|\b/\b-\b\\\b|\b/\b-\b\\\b|\b/\b-\b\\\b|\b/\b-\b\\\b|\b/\b|\b-\b\\\b|\b/\b-\b\\\b|\b/\b-\b\\\b|\b/\b-\b\\\b|\b/\b-\b\\\b|\b/\b-\b\\\b|\b/\b-\b\\\b|\b/\b-\b\\\b|\b/\b-\b\\\b|\b/\b-\b\\\b|\b/\b-\b\\\b|\b/\b-\b\\\b|\b/\b-\b\\\b|\b|\b/\b-\b\\\b|\b/\b-\b\\\b|\b/\b-\b\\\b|\b/\b-\b\\\b|\b/\b-\b\\\b|\b/\b-\b\\\b|\b/\b-\b\\\b|\b/\b-\b\\\b|\b/\b-\b\\\b|\b/\b-\b\\\b|\b/\b-\b\\\b|\b/\b-\b\\\b|\b/\b|\b-\b\\\b|\b/\b-\b\\\b|\b/\b-\b\\\b|\b/\b-\b\\\b|\b/\b-\b\\\b|\b/\b-\b\\\b|\b/\b-\b\\\b|\b/\b-\b\\\b|\b/\b-\b\\\b|\b/\b-\b\\\b|\b/\b-\b\\\b|\b/\b-\b\\\b|\b/\b-\b\\\b|\b|\b/\b-\b\\\b|\b/\b-\b\\\b|\b/\b-\b\\\b|\b/\b-\b\\\b|\b/\b-\b\\\b|\b/\b-\b\\\b|\b/\b-\b\\\b|\b/\b-\b\\\b|\b/\b-\b\\\b|\b/\b-\b\\\b|\b/\b-\b\\\b|\b/\b-\b\\\b|\b/\b|\b-\b\\\b|\b/\b-\b\\\b|\b/\b-\b\\\b|\b/\b-\b\\\b|\b/\b-\b\\\b|\b/\b-\b\\\b|\b/\b-\b\\\b|\b/\b-\b\\\b|\b/\b-\b\\\b|\b/\b-\b\\\b|\b/\b-\b\\\b|\b/\b-\b\\\b|\b/\b-\b\\\b|\b|\b/\b-\b\\\b|\b/\b-\b\\\b|\b/\b-\b\\\b|\b/\b-\b\\\b|\b/\b-\b\\\b|\b/\b-\b\\\b|\b/\b-\b\\\b|\b/\b-\b\\\b|\b/\b-\b\\\b|\b/\b-\b\\\b|\b/\b-\b\\\b|\b/\b-\b\\\b|\b/\b|\b-\b\\\b|\b/\b-\b\\\b|\b/\b-\b\\\b|\b/\b-\b\\\b|\b/\b-\b\\\b|\b/\b-\b\\\b|\b/\b-\b\\\b|\b/\b-\b\\\b|\b/\b-\b\\\b|\b/\b-\b\\\b|\b/\b-\b\\\b|\b/\b-\b\\\b|\b/\b-\b\\\b|\b|\b/\b-\b\\\b|\b/\b-\b\\\b|\b/\b-\b\\\b|\b/\b-\b\\\b|\b/\b-\b\\\b|\b/\b-\b\\\b|\b/\b-\b\\\b|\b/\b-\b\\\b|\b/\b-\b\\\b|\b/\b-\b\\\b|\b/\b-\b\\\b|\b/\b-\b\\\b|\b/\b|\b-\b\\\b|\b/\b-\b\\\b|\b/\b-\b\\\b|\b/\b-\b\\\b|\b/\b-\b\\\b|\b/\b-\b\\\b|\b/\b-\b\\\b|\b/\b-\b\\\b|\b/\b-\b\\\b|\b/\b-\b\\\b|\b/\b-\b\\\b|\b/\b-\b\\\b|\b/\b-\b\\\b|\b|\b/\b-\b\\\b|\b/\b-\b\\\b|\b/\b-\b\\\b|\b/\b-\b\\\b|\b/\b-\b\\\b|\b/\b-\b\\\b|\b/\b-\b\\\b|\b/\b-\b\\\b|\b/\b-\b\\\b|\b/\b-\b\\\b|\b/\b-\b\\\b|\b/\b-\b\\\b|\b/\b|\b-\b\\\b|\b/\b-\b\\\b|\b/\b-\b\\\b|\b/\b-\b\\\b|\b/\b-\b\\\b|\b/\b-\b\\\b|\b/\b-\b\\\b|\b/\b-\b\\\b|\b/\b-\b\\\b|\b/\b-\b\\\b|\b/\b-\b\\\b|\b/\b-\b\\\b|\b/\b-\b\\\b|\b|\b/\b-\b\\\b|\b/\b-\b\\\b|\b/\b-\b\\\b|\b/\b-\b\\\b|\b/\b-\b\\\b|\b/\b-\b\\\b|\b/\b-\b\\\b|\b/\b-\b\\\b|\b/\b-\b\\\b|\b/\b-\b\\\b|\b/\b-\b\\\b|\b/\b-\b\\\b|\b/\b|\b-\b\\\b|\b/\b-\b\\\b|\b/\b-\b\\\b|\b/\b-\b\\\b|\b/\b-\b\\\b|\b/\b-\b\\\b|\b/\b-\b\\\b|\b/\b-\b\\\b|\b/\b-\b\\\b|\b/\b-\b\\\b|\b/\b-\b\\\b|\b/\b-\b\\\b|\b/\b-\b\\\b|\b|\b/\b-\b\\\b|\b/\b-\b\\\b|\b/\b-\b\\\b|\b/\b-\b\\\b|\b/\b-\b\\\b|\b/\b-\b\\\b|\b/\b-\b\\\b|\b/\b-\b\\\b|\b/\b-\b\\\b|\b/\b-\b\\\b|\b/\b-\b\\\b|\b/\b-\b\\\b|\b/\b|\b-\b\\\b|\b/\b-\b\\\b|\b/\b-\b\\\b|\b/\b-\b\\\b|\b/\b-\b\\\b|\b/\b-\b\\\b|\b/\b-\b\\\b|\b/\b-\b\\\b|\b/\b-\b\\\b|\b/\b-\b\\\b|\b/\b-\b\\\b|\b/\b-\b\\\b|\b/\b-\b\\\b|\b|\b/\b-\b\\\b|\bdone.\n",
      "Generating update pair #2 for orders/lineitem tables/\b-\b\\\b|\b/\b-\b\\\b|\b/\b-\b\\\b|\b/\b-\b\\\b|\b/\b-\b\\\b|\b/\b-\b\\\b|\b/\b-\b\\\b|\b/\b-\b\\\b|\b/\b-\b\\\b|\b/\b-\b\\\b|\b/\b-\b\\\b|\b/\b|\b-\b\\\b|\b/\b-\b\\\b|\b/\b-\b\\\b|\b/\b-\b\\\b|\b/\b-\b\\\b|\b/\b-\b\\\b|\b/\b-\b\\\b|\b/\b-\b\\\b|\b/\b-\b\\\b|\b/\b-\b\\\b|\b/\b-\b\\\b|\b/\b-\b\\\b|\b/\b-\b\\\b|\b|\b/\b-\b\\\b|\b/\b-\b\\\b|\b/\b-\b\\\b|\b/\b-\b\\\b|\b/\b-\b\\\b|\b/\b-\b\\\b|\b/\b-\b\\\b|\b/\b-\b\\\b|\b/\b-\b\\\b|\b/\b-\b\\\b|\b/\b-\b\\\b|\b/\b-\b\\\b|\b/\b|\b-\b\\\b|\b/\b-\b\\\b|\b/\b-\b\\\b|\b/\b-\b\\\b|\b/\b-\b\\\b|\b/\b-\b\\\b|\b/\b-\b\\\b|\b/\b-\b\\\b|\b/\b-\b\\\b|\b/\b-\b\\\b|\b/\b-\b\\\b|\b/\b-\b\\\b|\b/\b-\b\\\b|\b|\b/\b-\b\\\b|\b/\b-\b\\\b|\b/\b-\b\\\b|\b/\b-\b\\\b|\b/\b-\b\\\b|\b/\b-\b\\\b|\b/\b-\b\\\b|\b/\b-\b\\\b|\b/\b-\b\\\b|\b/\b-\b\\\b|\b/\b-\b\\\b|\b/\b-\b\\\b|\b/\b|\b-\b\\\b|\b/\b-\b\\\b|\b/\b-\b\\\b|\b/\b-\b\\\b|\b/\b-\b\\\b|\b/\b-\b\\\b|\b/\b-\b\\\b|\b/\b-\b\\\b|\b/\b-\b\\\b|\b/\b-\b\\\b|\b/\b-\b\\\b|\b/\b-\b\\\b|\b/\b-\b\\\b|\b|\b/\b-\b\\\b|\b/\b-\b\\\b|\b/\b-\b\\\b|\b/\b-\b\\\b|\b/\b-\b\\\b|\b/\b-\b\\\b|\b/\b-\b\\\b|\b/\b-\b\\\b|\b/\b-\b\\\b|\b/\b-\b\\\b|\b/\b-\b\\\b|\b/\b-\b\\\b|\b/\b|\b-\b\\\b|\b/\b-\b\\\b|\b/\b-\b\\\b|\b/\b-\b\\\b|\b/\b-\b\\\b|\b/\b-\b\\\b|\b/\b-\b\\\b|\b/\b-\b\\\b|\b/\b-\b\\\b|\b/\b-\b\\\b|\b/\b-\b\\\b|\b/\b-\b\\\b|\b/\b-\b\\\b|\b|\b/\b-\b\\\b|\b/\b-\b\\\b|\b/\b-\b\\\b|\b/\b-\b\\\b|\b/\b-\b\\\b|\b/\b-\b\\\b|\b/\b-\b\\\b|\b/\b-\b\\\b|\b/\b-\b\\\b|\b/\b-\b\\\b|\b/\b-\b\\\b|\b/\b-\b\\\b|\b/\b|\b-\b\\\b|\b/\b-\b\\\b|\b/\b-\b\\\b|\b/\b-\b\\\b|\b/\b-\b\\\b|\b/\b-\b\\\b|\b/\b-\b\\\b|\b/\b-\b\\\b|\b/\b-\b\\\b|\b/\b-\b\\\b|\b/\b-\b\\\b|\b/\b-\b\\\b|\b/\b-\b\\\b|\b|\b/\b-\b\\\b|\b/\b-\b\\\b|\b/\b-\b\\\b|\b/\b-\b\\\b|\b/\b-\b\\\b|\b/\b-\b\\\b|\b/\b-\b\\\b|\b/\b-\b\\\b|\b/\b-\b\\\b|\b/\b-\b\\\b|\b/\b-\b\\\b|\b/\b-\b\\\b|\b/\b|\b-\b\\\b|\b/\b-\b\\\b|\b/\b-\b\\\b|\b/\b-\b\\\b|\b/\b-\b\\\b|\b/\b-\b\\\b|\b/\b-\b\\\b|\b/\b-\b\\\b|\b/\b-\b\\\b|\b/\b-\b\\\b|\b/\b-\b\\\b|\b/\b-\b\\\b|\b/\b-\b\\\b|\b|\b/\b-\b\\\b|\b/\b-\b\\\b|\b/\b-\b\\\b|\b/\b-\b\\\b|\b/\b-\b\\\b|\b/\b-\b\\\b|\b/\b-\b\\\b|\b/\b-\b\\\b|\b/\b-\b\\\b|\b/\b-\b\\\b|\b/\b-\b\\\b|\b/\b-\b\\\b|\b/\b|\b-\b\\\b|\b/\b-\b\\\b|\b/\b-\b\\\b|\b/\b-\b\\\b|\b/\b-\b\\\b|\b/\b-\b\\\b|\b/\b-\b\\\b|\b/\b-\b\\\b|\b/\b-\b\\\b|\b/\b-\b\\\b|\b/\b-\b\\\b|\b/\b-\b\\\b|\b/\b-\b\\\b|\b|\b/\b-\b\\\b|\b/\b-\b\\\b|\b/\b-\b\\\b|\b/\b-\b\\\b|\b/\b-\b\\\b|\b/\b-\b\\\b|\b/\b-\b\\\b|\b/\b-\b\\\b|\b/\b-\b\\\b|\b/\b-\b\\\b|\b/\b-\b\\\b|\b/\b-\b\\\b|\b/\b|\b-\b\\\b|\b/\b-\b\\\b|\b/\b-\b\\\b|\b/\b-\b\\\b|\b/\b-\b\\\b|\b/\b-\b\\\b|\b/\b-\b\\\b|\b/\b-\b\\\b|\b/\b-\b\\\b|\b/\b-\b\\\b|\b/\b-\b\\\b|\b/\b-\b\\\b|\b/\b-\b\\\b|\b|\b/\b-\b\\\b|\b/\b-\b\\\b|\b/\b-\b\\\b|\b/\b-\b\\\b|\b/\b-\b\\\b|\b/\b-\b\\\b|\b/\b-\b\\\b|\b/\b-\b\\\b|\b/\b-\b\\\b|\b/\b-\b\\\b|\b/\b-\b\\\b|\b/\b-\b\\\b|\b/\b|\b-\b\\\b|\b/\b-\b\\\b|\b/\b-\b\\\b|\b/\b-\b\\\b|\b/\b-\b\\\b|\b/\b-\b\\\b|\b/\b-\b\\\b|\b/\b-\b\\\b|\b/\b-\b\\\b|\b/\b-\b\\\b|\b/\b-\b\\\b|\b/\b-\b\\\b|\b/\b-\b\\\b|\b|\b/\b-\b\\\b|\b/\b-\b\\\b|\b/\b-\b\\\b|\b/\b-\b\\\b|\b/\b-\b\\\b|\b/\b-\b\\\b|\b/\b-\b\\\b|\b/\b-\b\\\b|\b/\b-\b\\\b|\b/\b-\b\\\b|\b/\b-\b\\\b|\b/\b-\b\\\b|\b/\b|\b-\b\\\b|\b/\b-\b\\\b|\b/\b-\b\\\b|\b/\b-\b\\\b|\b/\b-\b\\\b|\b/\b-\b\\\b|\b/\b-\b\\\b|\b/\b-\b\\\b|\b/\b-\b\\\b|\b/\b-\b\\\b|\b/\b-\b\\\b|\b/\b-\b\\\b|\b/\b-\b\\\b|\b|\b/\b-\b\\\b|\b/\b-\b\\\b|\b/\b-\b\\\b|\b/\b-\b\\\b|\b/\b-\b\\\b|\b/\b-\b\\\b|\b/\b-\b\\\b|\b/\b-\b\\\b|\b/\b-\b\\\b|\b/\b-\b\\\b|\b/\b-\b\\\b|\b/\b-\b\\\b|\b/\b|\b-\b\\\b|\b/\b-\b\\\b|\b/\b-\b\\\b|\b/\b-\b\\\b|\b/\b-\b\\\b|\b/\b-\b\\\b|\b/\b-\b\\\b|\b/\b-\b\\\b|\b/\b-\b\\\b|\b/\b-\b\\\b|\b/\b-\b\\\b|\b/\b-\b\\\b|\b/\b-\b\\\b|\b|\b/\b-\b\\\b|\b/\b-\b\\\b|\b/\b-\b\\\b|\b/\b-\b\\\b|\b/\b-\b\\\b|\b/\b-\b\\\b|\b/\b-\b\\\b|\b/\b-\b\\\b|\b/\b-\b\\\b|\b/\b-\b\\\b|\b/\b-\b\\\b|\b/\b-\b\\\b|\b/\b|\b-\b\\\b|\b/\b-\b\\\b|\b/\b-\b\\\b|\b/\b-\b\\\b|\b/\b-\b\\\b|\b/\b-\b\\\b|\b/\b-\b\\\b|\b/\b-\b\\\b|\b/\b-\b\\\b|\b/\b-\b\\\b|\b/\b-\b\\\b|\b/\b-\b\\\b|\b/\b-\b\\\b|\b|\b/\b-\b\\\b|\b/\b-\b\\\b|\b/\b-\b\\\b|\b/\b-\b\\\b|\b/\b-\b\\\b|\b/\b-\b\\\b|\b/\b-\b\\\b|\b/\b-\b\\\b|\b/\b-\b\\\b|\b/\b-\b\\\b|\b/\b-\b\\\b|\b/\b-\b\\\b|\b/\b|\b-\b\\\b|\b/\b-\b\\\b|\b/\b-\b\\\b|\b/\b-\b\\\b|\b/\b-\b\\\b|\b/\b-\b\\\b|\b/\b-\b\\\b|\b/\b-\b\\\b|\b/\b-\b\\\b|\b/\b-\b\\\b|\b/\b-\b\\\b|\b/\b-\b\\\b|\b/\b-\b\\\b|\b|\b/\b-\b\\\b|\b/\b-\b\\\b|\b/\b-\b\\\b|\b/\b-\b\\\b|\b/\b-\b\\\b|\b/\b-\b\\\b|\b/\b-\b\\\b|\b/\b-\b\\\b|\b/\b-\b\\\b|\b/\b-\b\\\b|\b/\b-\b\\\b|\b/\b-\b\\\b|\b/\b|\b-\b\\\b|\b/\b-\b\\\b|\b/\b-\b\\\b|\b/\b-\b\\\b|\b/\b-\b\\\b|\b/\b-\b\\\b|\b/\b-\b\\\b|\b/\b-\b\\\b|\b/\b-\b\\\b|\b/\b-\b\\\b|\b/\b-\b\\\b|\b/\b-\b\\\b|\b/\b-\b\\\b|\b|\b/\b-\b\\\b|\b/\b-\b\\\b|\b/\b-\b\\\b|\b/\b-\b\\\b|\b/\b-\b\\\b|\b/\b-\b\\\b|\b/\b-\b\\\b|\b/\b-\b\\\b|\b/\b-\b\\\b|\b/\b-\b\\\b|\b/\b-\b\\\b|\b/\b-\b\\\b|\b/\b|\b-\b\\\b|\b/\b-\b\\\b|\b/\b-\b\\\b|\b/\b-\b\\\b|\b/\b-\b\\\b|\b/\b-\b\\\b|\b/\b-\b\\\b|\b/\b-\b\\\b|\b/\b-\b\\\b|\b/\b-\b\\\b|\b/\b-\b\\\b|\b/\b-\b\\\b|\b/\b-\b\\\b|\b|\b/\b-\b\\\b|\bdone.\n",
      "Generating update pair #3 for orders/lineitem tables/\b-\b\\\b|\b/\b-\b\\\b|\b/\b-\b\\\b|\b/\b-\b\\\b|\b/\b-\b\\\b|\b/\b-\b\\\b|\b/\b-\b\\\b|\b/\b-\b\\\b|\b/\b-\b\\\b|\b/\b-\b\\\b|\b/\b-\b\\\b|\b/\b|\b-\b\\\b|\b/\b-\b\\\b|\b/\b-\b\\\b|\b/\b-\b\\\b|\b/\b-\b\\\b|\b/\b-\b\\\b|\b/\b-\b\\\b|\b/\b-\b\\\b|\b/\b-\b\\\b|\b/\b-\b\\\b|\b/\b-\b\\\b|\b/\b-\b\\\b|\b/\b-\b\\\b|\b|\b/\b-\b\\\b|\b/\b-\b\\\b|\b/\b-\b\\\b|\b/\b-\b\\\b|\b/\b-\b\\\b|\b/\b-\b\\\b|\b/\b-\b\\\b|\b/\b-\b\\\b|\b/\b-\b\\\b|\b/\b-\b\\\b|\b/\b-\b\\\b|\b/\b-\b\\\b|\b/\b|\b-\b\\\b|\b/\b-\b\\\b|\b/\b-\b\\\b|\b/\b-\b\\\b|\b/\b-\b\\\b|\b/\b-\b\\\b|\b/\b-\b\\\b|\b/\b-\b\\\b|\b/\b-\b\\\b|\b/\b-\b\\\b|\b/\b-\b\\\b|\b/\b-\b\\\b|\b/\b-\b\\\b|\b|\b/\b-\b\\\b|\b/\b-\b\\\b|\b/\b-\b\\\b|\b/\b-\b\\\b|\b/\b-\b\\\b|\b/\b-\b\\\b|\b/\b-\b\\\b|\b/\b-\b\\\b|\b/\b-\b\\\b|\b/\b-\b\\\b|\b/\b-\b\\\b|\b/\b-\b\\\b|\b/\b|\b-\b\\\b|\b/\b-\b\\\b|\b/\b-\b\\\b|\b/\b-\b\\\b|\b/\b-\b\\\b|\b/\b-\b\\\b|\b/\b-\b\\\b|\b/\b-\b\\\b|\b/\b-\b\\\b|\b/\b-\b\\\b|\b/\b-\b\\\b|\b/\b-\b\\\b|\b/\b-\b\\\b|\b|\b/\b-\b\\\b|\b/\b-\b\\\b|\b/\b-\b\\\b|\b/\b-\b\\\b|\b/\b-\b\\\b|\b/\b-\b\\\b|\b/\b-\b\\\b|\b/\b-\b\\\b|\b/\b-\b\\\b|\b/\b-\b\\\b|\b/\b-\b\\\b|\b/\b-\b\\\b|\b/\b|\b-\b\\\b|\b/\b-\b\\\b|\b/\b-\b\\\b|\b/\b-\b\\\b|\b/\b-\b\\\b|\b/\b-\b\\\b|\b/\b-\b\\\b|\b/\b-\b\\\b|\b/\b-\b\\\b|\b/\b-\b\\\b|\b/\b-\b\\\b|\b/\b-\b\\\b|\b/\b-\b\\\b|\b|\b/\b-\b\\\b|\b/\b-\b\\\b|\b/\b-\b\\\b|\b/\b-\b\\\b|\b/\b-\b\\\b|\b/\b-\b\\\b|\b/\b-\b\\\b|\b/\b-\b\\\b|\b/\b-\b\\\b|\b/\b-\b\\\b|\b/\b-\b\\\b|\b/\b-\b\\\b|\b/\b|\b-\b\\\b|\b/\b-\b\\\b|\b/\b-\b\\\b|\b/\b-\b\\\b|\b/\b-\b\\\b|\b/\b-\b\\\b|\b/\b-\b\\\b|\b/\b-\b\\\b|\b/\b-\b\\\b|\b/\b-\b\\\b|\b/\b-\b\\\b|\b/\b-\b\\\b|\b/\b-\b\\\b|\b|\b/\b-\b\\\b|\b/\b-\b\\\b|\b/\b-\b\\\b|\b/\b-\b\\\b|\b/\b-\b\\\b|\b/\b-\b\\\b|\b/\b-\b\\\b|\b/\b-\b\\\b|\b/\b-\b\\\b|\b/\b-\b\\\b|\b/\b-\b\\\b|\b/\b-\b\\\b|\b/\b|\b-\b\\\b|\b/\b-\b\\\b|\b/\b-\b\\\b|\b/\b-\b\\\b|\b/\b-\b\\\b|\b/\b-\b\\\b|\b/\b-\b\\\b|\b/\b-\b\\\b|\b/\b-\b\\\b|\b/\b-\b\\\b|\b/\b-\b\\\b|\b/\b-\b\\\b|\b/\b-\b\\\b|\b|\b/\b-\b\\\b|\b/\b-\b\\\b|\b/\b-\b\\\b|\b/\b-\b\\\b|\b/\b-\b\\\b|\b/\b-\b\\\b|\b/\b-\b\\\b|\b/\b-\b\\\b|\b/\b-\b\\\b|\b/\b-\b\\\b|\b/\b-\b\\\b|\b/\b-\b\\\b|\b/\b|\b-\b\\\b|\b/\b-\b\\\b|\b/\b-\b\\\b|\b/\b-\b\\\b|\b/\b-\b\\\b|\b/\b-\b\\\b|\b/\b-\b\\\b|\b/\b-\b\\\b|\b/\b-\b\\\b|\b/\b-\b\\\b|\b/\b-\b\\\b|\b/\b-\b\\\b|\b/\b-\b\\\b|\b|\b/\b-\b\\\b|\b/\b-\b\\\b|\b/\b-\b\\\b|\b/\b-\b\\\b|\b/\b-\b\\\b|\b/\b-\b\\\b|\b/\b-\b\\\b|\b/\b-\b\\\b|\b/\b-\b\\\b|\b/\b-\b\\\b|\b/\b-\b\\\b|\b/\b-\b\\\b|\b/\b|\b-\b\\\b|\b/\b-\b\\\b|\b/\b-\b\\\b|\b/\b-\b\\\b|\b/\b-\b\\\b|\b/\b-\b\\\b|\b/\b-\b\\\b|\b/\b-\b\\\b|\b/\b-\b\\\b|\b/\b-\b\\\b|\b/\b-\b\\\b|\b/\b-\b\\\b|\b/\b-\b\\\b|\b|\b/\b-\b\\\b|\b/\b-\b\\\b|\b/\b-\b\\\b|\b/\b-\b\\\b|\b/\b-\b\\\b|\b/\b-\b\\\b|\b/\b-\b\\\b|\b/\b-\b\\\b|\b/\b-\b\\\b|\b/\b-\b\\\b|\b/\b-\b\\\b|\b/\b-\b\\\b|\b/\b|\b-\b\\\b|\b/\b-\b\\\b|\b/\b-\b\\\b|\b/\b-\b\\\b|\b/\b-\b\\\b|\b/\b-\b\\\b|\b/\b-\b\\\b|\b/\b-\b\\\b|\b/\b-\b\\\b|\b/\b-\b\\\b|\b/\b-\b\\\b|\b/\b-\b\\\b|\b/\b-\b\\\b|\b|\b/\b-\b\\\b|\b/\b-\b\\\b|\b/\b-\b\\\b|\b/\b-\b\\\b|\b/\b-\b\\\b|\b/\b-\b\\\b|\b/\b-\b\\\b|\b/\b-\b\\\b|\b/\b-\b\\\b|\b/\b-\b\\\b|\b/\b-\b\\\b|\b/\b-\b\\\b|\b/\b|\b-\b\\\b|\b/\b-\b\\\b|\b/\b-\b\\\b|\b/\b-\b\\\b|\b/\b-\b\\\b|\b/\b-\b\\\b|\b/\b-\b\\\b|\b/\b-\b\\\b|\b/\b-\b\\\b|\b/\b-\b\\\b|\b/\b-\b\\\b|\b/\b-\b\\\b|\b/\b-\b\\\b|\b|\b/\b-\b\\\b|\b/\b-\b\\\b|\b/\b-\b\\\b|\b/\b-\b\\\b|\b/\b-\b\\\b|\b/\b-\b\\\b|\b/\b-\b\\\b|\b/\b-\b\\\b|\b/\b-\b\\\b|\b/\b-\b\\\b|\b/\b-\b\\\b|\b/\b-\b\\\b|\b/\b|\b-\b\\\b|\b/\b-\b\\\b|\b/\b-\b\\\b|\b/\b-\b\\\b|\b/\b-\b\\\b|\b/\b-\b\\\b|\b/\b-\b\\\b|\b/\b-\b\\\b|\b/\b-\b\\\b|\b/\b-\b\\\b|\b/\b-\b\\\b|\b/\b-\b\\\b|\b/\b-\b\\\b|\b|\b/\b-\b\\\b|\b/\b-\b\\\b|\b/\b-\b\\\b|\b/\b-\b\\\b|\b/\b-\b\\\b|\b/\b-\b\\\b|\b/\b-\b\\\b|\b/\b-\b\\\b|\b/\b-\b\\\b|\b/\b-\b\\\b|\b/\b-\b\\\b|\b/\b-\b\\\b|\b/\b|\b-\b\\\b|\b/\b-\b\\\b|\b/\b-\b\\\b|\b/\b-\b\\\b|\b/\b-\b\\\b|\b/\b-\b\\\b|\b/\b-\b\\\b|\b/\b-\b\\\b|\b/\b-\b\\\b|\b/\b-\b\\\b|\b/\b-\b\\\b|\b/\b-\b\\\b|\b/\b-\b\\\b|\b|\b/\b-\b\\\b|\b/\b-\b\\\b|\b/\b-\b\\\b|\b/\b-\b\\\b|\b/\b-\b\\\b|\b/\b-\b\\\b|\b/\b-\b\\\b|\b/\b-\b\\\b|\b/\b-\b\\\b|\b/\b-\b\\\b|\b/\b-\b\\\b|\b/\b-\b\\\b|\b/\b|\b-\b\\\b|\b/\b-\b\\\b|\b/\b-\b\\\b|\b/\b-\b\\\b|\b/\b-\b\\\b|\b/\b-\b\\\b|\b/\b-\b\\\b|\b/\b-\b\\\b|\b/\b-\b\\\b|\b/\b-\b\\\b|\b/\b-\b\\\b|\b/\b-\b\\\b|\b/\b-\b\\\b|\b|\b/\b-\b\\\b|\b/\b-\b\\\b|\b/\b-\b\\\b|\b/\b-\b\\\b|\b/\b-\b\\\b|\b/\b-\b\\\b|\b/\b-\b\\\b|\b/\b-\b\\\b|\b/\b-\b\\\b|\b/\b-\b\\\b|\b/\b-\b\\\b|\b/\b-\b\\\b|\b/\b|\b-\b\\\b|\b/\b-\b\\\b|\b/\b-\b\\\b|\b/\b-\b\\\b|\b/\b-\b\\\b|\b/\b-\b\\\b|\b/\b-\b\\\b|\b/\b-\b\\\b|\b/\b-\b\\\b|\b/\b-\b\\\b|\b/\b-\b\\\b|\b/\b-\b\\\b|\b/\b-\b\\\b|\b|\b/\b-\b\\\b|\b/\b-\b\\\b|\b/\b-\b\\\b|\b/\b-\b\\\b|\b/\b-\b\\\b|\b/\b-\b\\\b|\b/\b-\b\\\b|\b/\b-\b\\\b|\b/\b-\b\\\b|\b/\b-\b\\\b|\b/\b-\b\\\b|\b/\b-\b\\\b|\b/\b|\b-\b\\\b|\b/\b-\b\\\b|\b/\b-\b\\\b|\b/\b-\b\\\b|\b/\b-\b\\\b|\b/\b-\b\\\b|\b/\b-\b\\\b|\b/\b-\b\\\b|\b/\b-\b\\\b|\b/\b-\b\\\b|\b/\b-\b\\\b|\b/\b-\b\\\b|\b/\b-\b\\\b|\b|\b/\b-\b\\\b|\bdone.\n"
     ]
    }
   ],
   "source": [
    "%cd /app/datadir/tpch/\n",
    "\n",
    "%run tpch_pgsql.py prepare"
   ]
  },
  {
   "cell_type": "markdown",
   "id": "b26e2041",
   "metadata": {},
   "source": [
    "### Fase de carregamento"
   ]
  },
  {
   "cell_type": "code",
   "execution_count": 5,
   "id": "99fb557d",
   "metadata": {},
   "outputs": [
    {
     "name": "stdout",
     "output_type": "stream",
     "text": [
      "/app/datadir/tpch\n",
      "dropped existing tables\n",
      "cleaned database tpch\n",
      "done creating schemas\n",
      "done loading data to tables\n",
      "done creating indexes and foreign keys\n",
      "============================================================\n",
      "=========================== Load ===========================\n",
      "============================================================\n",
      "create_schema: : 0:00:02.816093\n",
      "load_data: 0:00:55.274089\n",
      "index_tables: 0:00:30.918959\n",
      "============================================================\n",
      "======================= End Results ========================\n",
      "============================================================\n"
     ]
    }
   ],
   "source": [
    "%cd /app/datadir/tpch/\n",
    "\n",
    "%run tpch_pgsql.py load"
   ]
  },
  {
   "cell_type": "markdown",
   "id": "29100529",
   "metadata": {},
   "source": [
    "## Tarefa 3"
   ]
  },
  {
   "cell_type": "markdown",
   "id": "85393452",
   "metadata": {},
   "source": [
    "### Execução das consultas"
   ]
  },
  {
   "cell_type": "code",
   "execution_count": 6,
   "id": "63bd0955",
   "metadata": {},
   "outputs": [
    {
     "name": "stdout",
     "output_type": "stream",
     "text": [
      "/app/datadir/tpch\n",
      "Power tests started ...\n",
      "Power tests finished.\n",
      "Throughput tests started ...\n",
      "Throughput tests in stream #1 started ...\n",
      "Throughput tests in stream #2 started ...\n",
      "Throughput tests finished.\n",
      "done performance tests\n",
      "Power@Size = 6638.580345006033\n",
      "Throughput@Size = 7850.120581618607\n",
      "QphH@Size = 7218.978888946872\n",
      "============================================================\n",
      "========================= Metrics ==========================\n",
      "============================================================\n",
      "power_size: 6638.580345006033\n",
      "throughput_size: 7850.120581618607\n",
      "qphh_size: 7218.978888946872\n",
      "============================================================\n",
      "======================= End Results ========================\n",
      "============================================================\n"
     ]
    }
   ],
   "source": [
    "%cd /app/datadir/tpch/\n",
    "\n",
    "%run tpch_pgsql.py query "
   ]
  },
  {
   "cell_type": "markdown",
   "id": "5a7269de",
   "metadata": {},
   "source": [
    "## Tarefa 4"
   ]
  },
  {
   "cell_type": "markdown",
   "id": "a78c5ba2",
   "metadata": {},
   "source": [
    "### Informações Sistema Operacional:\n",
    "\n",
    "PRETTY_NAME=\"Ubuntu 22.04.2 LTS\" <br>\n",
    "VERSION=\"22.04.2 LTS (Jammy Jellyfish)\"<br>\n",
    "ID=ubuntu<br>\n",
    "ID_LIKE=debian<br>\n",
    "HOME_URL=\"https://www.ubuntu.com/\"<br>\n",
    "SUPPORT_URL=\"https://help.ubuntu.com/\"<br>\n",
    "BUG_REPORT_URL=\"https://bugs.launchpad.net/ubuntu/\"<br>\n",
    "PRIVACY_POLICY_URL=\"https://www.ubuntu.com/legal/terms-and-policies/privacy-policy\"<br>\n",
    "UBUNTU_CODENAME=jammy<br>"
   ]
  },
  {
   "cell_type": "markdown",
   "id": "b7683be1",
   "metadata": {},
   "source": [
    "### informações CPU\n",
    "Architecture:            x86_64 <br>\n",
    "  Address sizes:         48 bits physical, 48 bits virtual<br>\n",
    "  Byte Order:            Little Endian<br>\n",
    "Vendor ID:               AuthenticAMD<br>\n",
    "  Model name:            AMD Ryzen 5 5600G with Radeon Graphics<br>\n",
    "    CPU family:          25<br>\n",
    "    Model:               80<br>\n",
    "    Thread(s) per core:  2<br>\n",
    "    Core(s) per socket:  6<br>\n",
    "    Socket(s):           1<br>\n",
    "    Stepping:            0<br>\n",
    "    BogoMIPS:            7785.09<br>"
   ]
  },
  {
   "cell_type": "markdown",
   "id": "95966847",
   "metadata": {},
   "source": [
    "### Informação memória\n",
    "\n",
    "      total        used        free      shared  buff/cache   available\n",
    "      6.7Gi       671Mi       5.2Gi        16Mi       852Mi       5.8Gi mem\n",
    "      2.0Gi          0B       2.0Gi                                     swap\n",
    "      \n",
    "      Filesystem      Size  Used Avail Use% Mounted on\n",
    "      drvfs           475G  338G  138G  72% /mnt/c"
   ]
  },
  {
   "cell_type": "markdown",
   "id": "6f552348",
   "metadata": {},
   "source": [
    "## Tarefa 5"
   ]
  },
  {
   "cell_type": "markdown",
   "id": "e26d5f72",
   "metadata": {},
   "source": [
    "## Tarefa 6"
   ]
  },
  {
   "cell_type": "markdown",
   "id": "091a2200",
   "metadata": {},
   "source": [
    "| Característica                                 | Descrição                                                                                                                                                                                                                          |\n",
    "|-----------------------------------------------|------------------------------------------------------------------------------------------------------------------------------------------------------------------------------------------------------------------------------------|\n",
    "| Modelo de Armazenamento                        | O PostgreSQL utiliza o modelo de armazenamento relacional, baseado em tabelas, colunas e linhas, seguindo os princípios do modelo ACID (Atomicidade, Consistência, Isolamento e Durabilidade).                                      |\n",
    "| Formato de Armazenamento                       | O PostgreSQL armazena os dados em páginas de tamanho fixo (geralmente 8 KB por página), onde cada página pode conter várias tuplas. Os dados são organizados em segmentos, tablespaces e bancos de dados.                          |\n",
    "| Controle de Acesso aos Dados                   | O PostgreSQL oferece um sistema de controle de acesso robusto e flexível, permitindo a definição de permissões de acesso a nível de objeto (tabelas, colunas, etc.) e a nível de usuário/grupo.                                     |\n",
    "| Indexação de Dados                             | O PostgreSQL suporta vários tipos de índices, incluindo índices B-tree, hash, GIN (Generalized Inverted Index) e GiST (Generalized Search Tree), permitindo a otimização do acesso aos dados em diferentes cenários.               |\n",
    "| Compressão de Dados                            | O PostgreSQL oferece suporte à compressão de dados por meio de técnicas como TOAST (The Oversized-Attribute Storage Technique) e tabelas particionadas, permitindo economia de espaço de armazenamento.                             |\n",
    "| Gerenciamento de Espaço em Disco               | O PostgreSQL utiliza um sistema de gerenciamento de espaço em disco que aloca automaticamente espaço para novos dados e realiza reutilização de espaço para dados removidos ou atualizados.                                         |\n",
    "| Recuperação de Falhas (Recovery)               | O PostgreSQL possui um mecanismo de recuperação robusto, com suporte a logs de transação (WAL - Write-Ahead Logging) que permite a recuperação do banco de dados para um estado consistente após uma falha.                         |\n",
    "| Replicação de Dados                            | O PostgreSQL oferece várias opções de replicação de dados, incluindo replicação baseada em registros (Streaming Replication), replicação síncrona e assíncrona, permitindo alta disponibilidade e escalabilidade.                      |\n",
    "| Particionamento de Tabelas                     | O PostgreSQL suporta o particionamento de tabelas, permitindo que grandes conjuntos de dados sejam divididos em partições menores com base em um critério especificado, o que facilita o gerenciamento de grandes volumes de dados. |\n",
    "| Recursos Avançados de Consulta e Otimização    | O PostgreSQL possui um otimizador de consultas avançado que analisa as consultas submetidas e escolhe o plano de execução mais eficiente. Além disso, oferece recursos como estatísticas de tabelas, views materializadas e otimização de expressões.  |\n"
   ]
  },
  {
   "cell_type": "markdown",
   "id": "62a5f9cd",
   "metadata": {},
   "source": [
    "## Tarefa 7"
   ]
  },
  {
   "cell_type": "markdown",
   "id": "ddfba233",
   "metadata": {},
   "source": [
    "| Sistema de Arquivo | Descrição | Capacidade Máxima de Arquivo | Capacidade Máxima de Sistema de Arquivo | Journaling | Fragmentação | Suporte a ACLs | Compressão | Transações |\n",
    "|--------------------|-----------|------------------------------|---------------------------------------|------------|--------------|----------------|------------|------------|\n",
    "| Ext2               | O Ext2 é um sistema de arquivos de primeira geração para o Linux. | 2 TB | 4 TB | Não | Propenso à fragmentação | Não | Não | Não |\n",
    "| Ext3               | O Ext3 é uma extensão do Ext2 que adiciona journaling para maior segurança. | 2 TB | 4 TB | Sim | Propenso à fragmentação | Não | Não | Não |\n",
    "| ReiserFS           | O ReiserFS é um sistema de arquivos de alto desempenho, conhecido por sua rápida manipulação de pequenos arquivos. | 8 TB | 16 TB | Sim | Melhor desempenho com arquivos pequenos | Sim | Não | Não |\n",
    "| XFS                | O XFS é um sistema de arquivos de alto desempenho, otimizado para escalabilidade e grandes sistemas de armazenamento. | 8 EB | 8 EB | Sim | Melhor desempenho com arquivos grandes | Sim | Sim | Sim |\n",
    "\n",
    "Observações:\n",
    "\n",
    "    Capacidade máxima de arquivo refere-se ao tamanho máximo de um único arquivo suportado pelo sistema de arquivos.\n",
    "    Capacidade máxima de sistema de arquivos refere-se ao tamanho máximo total do sistema de arquivos.\n",
    "    Journaling refere-se à técnica de registro de transações para garantir a consistência dos dados após falhas de energia ou reinicializações inesperadas.\n",
    "    Fragmentação indica a tendência do sistema de arquivos em fragmentar os arquivos em várias partes físicas do disco.\n",
    "    ACLs (Access Control Lists) permitem a atribuição de permissões mais granulares a arquivos e diretórios.\n",
    "    Compressão indica se o sistema de arquivos suporta compressão de dados para economizar espaço de armazenamento.\n",
    "    Transações referem-se à capacidade do sistema de arquivos de executar operações atômicas (tudo ou nada)."
   ]
  },
  {
   "cell_type": "markdown",
   "id": "3dab85c6",
   "metadata": {},
   "source": [
    "## Tarefa 8"
   ]
  },
  {
   "cell_type": "markdown",
   "id": "efba4e14",
   "metadata": {},
   "source": [
    "## Tarefa 9"
   ]
  },
  {
   "cell_type": "markdown",
   "id": "fbf008e2",
   "metadata": {},
   "source": [
    "## Tarefa 10"
   ]
  },
  {
   "cell_type": "code",
   "execution_count": 20,
   "id": "ac2c73a2",
   "metadata": {},
   "outputs": [
    {
     "name": "stdout",
     "output_type": "stream",
     "text": [
      "Conexão estabelecida com sucesso!\n"
     ]
    }
   ],
   "source": [
    "import psycopg2\n",
    "import time\n",
    "\n",
    "# Parâmetros de conexão\n",
    "DEFAULT_HOST = \"localhost\"\n",
    "DEFAULT_PORT = 5432\n",
    "DEFAULT_USERNAME = \"postgres\"\n",
    "DEFAULT_PASSWORD = \"postgres\"\n",
    "DEFAULT_DBNAME = \"series\"\n",
    "\n",
    "# Estabelecer conexão com o PostgreSQL\n",
    "conn = psycopg2.connect(\n",
    "    host=DEFAULT_HOST,\n",
    "    port=DEFAULT_PORT,\n",
    "    user=DEFAULT_USERNAME,\n",
    "    password=DEFAULT_PASSWORD,\n",
    "    database=DEFAULT_DBNAME\n",
    ")\n",
    "print(\"Conexão estabelecida com sucesso!\")"
   ]
  },
  {
   "cell_type": "code",
   "execution_count": 21,
   "id": "77dfdfa6",
   "metadata": {},
   "outputs": [
    {
     "name": "stdout",
     "output_type": "stream",
     "text": [
      "Tabela populada com sucesso!\n",
      "k = 1 v = 5\n",
      "k = 2 v = 2\n",
      "k = 3 v = 5\n",
      "k = 4 v = 4\n",
      "k = 5 v = 3\n",
      "k = 6 v = 0\n",
      "k = 7 v = 1\n",
      "k = 8 v = 3\n",
      "k = 9 v = 2\n",
      "k = 10 v = 0\n"
     ]
    }
   ],
   "source": [
    "# Popular a tabela \"t\"\n",
    "create_table_query = \"\"\"\n",
    "DROP TABLE IF EXISTS t;\n",
    "CREATE TABLE t (k serial PRIMARY KEY, v integer);\n",
    "\n",
    "INSERT INTO t(v) \n",
    "SELECT trunc(random() * 10) FROM generate_series(1, 100000);\n",
    "\"\"\"\n",
    "with conn.cursor() as cursor:\n",
    "    cursor.execute(create_table_query)\n",
    "conn.commit()\n",
    "print(\"Tabela populada com sucesso!\")\n",
    "\n",
    "# Executar a consulta SQL para obter os valores das 10 primeiras tuplas ordenadas por \"k\"\n",
    "select_query = \"\"\"\n",
    "SELECT * FROM t ORDER BY k LIMIT 10;\n",
    "\"\"\"\n",
    "with conn.cursor() as cursor:\n",
    "    cursor.execute(select_query)\n",
    "    rows = cursor.fetchall()\n",
    "    for row in rows:\n",
    "        print(f\"k = {row[0]} v = {row[1]}\")\n",
    "\n",
    "# Fechar cursor\n",
    "cursor.close()"
   ]
  },
  {
   "cell_type": "markdown",
   "id": "a63c1116",
   "metadata": {},
   "source": [
    "## Tarefa 11"
   ]
  },
  {
   "cell_type": "code",
   "execution_count": 22,
   "id": "6a17113a",
   "metadata": {},
   "outputs": [
    {
     "name": "stdout",
     "output_type": "stream",
     "text": [
      "Table:  t\n",
      "Number of pages:  443\n",
      "Number of tuples:  100000.0\n"
     ]
    }
   ],
   "source": [
    "# Criar cursor\n",
    "cursor = conn.cursor()\n",
    "\n",
    "# Atualizar as estatísticas da tabela 't'\n",
    "cursor.execute(\"ANALYZE t\")\n",
    "\n",
    "# Executar a consulta\n",
    "cursor.execute(\"SELECT relname, relpages, reltuples FROM pg_class WHERE relname='t';\")\n",
    "\n",
    "# Obter o resultado da consulta\n",
    "result = cursor.fetchone()\n",
    "\n",
    "# Imprimir o resultado\n",
    "print(\"Table: \", result[0])\n",
    "print(\"Number of pages: \", result[1])\n",
    "print(\"Number of tuples: \", result[2])\n",
    "\n",
    "# Fechar cursor\n",
    "cursor.close()"
   ]
  },
  {
   "cell_type": "markdown",
   "id": "f6a8dcf9",
   "metadata": {},
   "source": [
    "## Tarefa 12"
   ]
  },
  {
   "cell_type": "code",
   "execution_count": 23,
   "id": "7e0f1875",
   "metadata": {},
   "outputs": [
    {
     "name": "stdout",
     "output_type": "stream",
     "text": [
      "('Limit  (cost=0.29..0.60 rows=10 width=8) (actual time=0.009..0.012 rows=10 loops=1)',)\n",
      "('  Buffers: shared hit=3',)\n",
      "('  ->  Index Scan using t_pkey on t  (cost=0.29..3050.29 rows=100000 width=8) (actual time=0.008..0.010 rows=10 loops=1)',)\n",
      "('        Buffers: shared hit=3',)\n",
      "('Planning:',)\n",
      "('  Buffers: shared hit=17',)\n",
      "('Planning Time: 0.088 ms',)\n",
      "('Execution Time: 0.020 ms',)\n"
     ]
    }
   ],
   "source": [
    "# Criar cursor\n",
    "cursor = conn.cursor()\n",
    "\n",
    "# Executar os comandos separadamente\n",
    "cursor.execute(\"SELECT pg_sleep(1)\")\n",
    "cursor.execute(\"SELECT * FROM pg_stats WHERE tablename='t'\")\n",
    "cursor.execute(\"SELECT pg_stat_reset()\")\n",
    "cursor.execute(\"EXPLAIN (ANALYZE, BUFFERS) SELECT * FROM t ORDER BY k LIMIT 10\")\n",
    "\n",
    "# Obter o resultado da consulta\n",
    "result = cursor.fetchall()\n",
    "\n",
    "# Imprimir o resultado\n",
    "for row in result:\n",
    "    print(row)\n",
    "\n",
    "# Fechar cursor\n",
    "cursor.close()\n"
   ]
  },
  {
   "cell_type": "markdown",
   "id": "887bb856",
   "metadata": {},
   "source": [
    "## Tarefa 13"
   ]
  },
  {
   "cell_type": "markdown",
   "id": "75e66b67",
   "metadata": {},
   "source": [
    "### Qual o tempo gasto para realizar uma consulta para um valor (tendo a tabela 100000 tuplas)?\n",
    "### Qual o tempo gasto para recriar um índice para o atributo ‘v’?\n"
   ]
  },
  {
   "cell_type": "code",
   "execution_count": 24,
   "id": "2c2362e7",
   "metadata": {
    "scrolled": true
   },
   "outputs": [
    {
     "name": "stdout",
     "output_type": "stream",
     "text": [
      "Tempo gasto para realizar a consulta: 0.006763935089111328 segundos\n",
      "Tempo gasto para recriar o índice: 0.0882112979888916 segundos\n"
     ]
    }
   ],
   "source": [
    "# Criar cursor\n",
    "cursor = conn.cursor()\n",
    "\n",
    "# Criar índice para o atributo 'v'\n",
    "cursor.execute(\"CREATE INDEX idx_v ON t (v)\")\n",
    "\n",
    "# Realizar consulta para um valor específico\n",
    "start_time = time.time()\n",
    "\n",
    "valor_consulta = 5\n",
    "cursor.execute(\"SELECT * FROM t WHERE v = %s\", (valor_consulta,))\n",
    "result = cursor.fetchall()\n",
    "\n",
    "end_time = time.time()\n",
    "consulta_time = end_time - start_time\n",
    "\n",
    "# Medir o tempo gasto para recriar o índice\n",
    "start_time = time.time()\n",
    "\n",
    "cursor.execute(\"DROP INDEX idx_v\")\n",
    "cursor.execute(\"CREATE INDEX idx_v ON t (v)\")\n",
    "\n",
    "end_time = time.time()\n",
    "recriar_indice_time = end_time - start_time\n",
    "\n",
    "# Imprimir resultados\n",
    "print(\"Tempo gasto para realizar a consulta: {} segundos\".format(consulta_time))\n",
    "print(\"Tempo gasto para recriar o índice: {} segundos\".format(recriar_indice_time))\n",
    "\n",
    "# Fechar cursor e conexão\n",
    "cursor.close()"
   ]
  },
  {
   "cell_type": "markdown",
   "id": "bb2780ae",
   "metadata": {},
   "source": [
    "### Remova a tabela ‘t’ e crie novamente com 1.0000.000 de tuplas\n"
   ]
  },
  {
   "cell_type": "code",
   "execution_count": 25,
   "id": "2cb509e5",
   "metadata": {},
   "outputs": [
    {
     "name": "stdout",
     "output_type": "stream",
     "text": [
      "Tabela recriada com sucesso!\n"
     ]
    }
   ],
   "source": [
    "# Criar cursor\n",
    "cursor = conn.cursor()\n",
    "\n",
    "# Remover a tabela 't' se existir\n",
    "cursor.execute(\"DROP TABLE IF EXISTS t\")\n",
    "\n",
    "# Criar novamente a tabela 't' com 1.000.000 de tuplas\n",
    "cursor.execute(\"CREATE TABLE t (k serial PRIMARY KEY, v integer)\")\n",
    "\n",
    "# Inserir 1.000.000 de tuplas na tabela\n",
    "cursor.execute(\"INSERT INTO t(v) SELECT trunc(random() * 10) FROM generate_series(1, 1000000)\")\n",
    "\n",
    "# Confirmar as alterações\n",
    "conn.commit()\n",
    "\n",
    "# Fechar cursor\n",
    "cursor.close()\n",
    "print(\"Tabela recriada com sucesso!\")"
   ]
  },
  {
   "cell_type": "markdown",
   "id": "94507142",
   "metadata": {},
   "source": [
    "### Qual o tempo gasto para realizar uma consulta para um valor específico?\n"
   ]
  },
  {
   "cell_type": "code",
   "execution_count": 26,
   "id": "a77e5d04",
   "metadata": {},
   "outputs": [
    {
     "name": "stdout",
     "output_type": "stream",
     "text": [
      "Consulta retornou 100504 tuplas.\n",
      "Tempo de execução: 0.0556 segundos.\n"
     ]
    }
   ],
   "source": [
    "# Valor específico a ser consultado\n",
    "specific_value = 5\n",
    "\n",
    "# Criar cursor\n",
    "cursor = conn.cursor()\n",
    "\n",
    "# Medir o tempo de execução da consulta\n",
    "start_time = time.time()\n",
    "\n",
    "# Executar a consulta\n",
    "cursor.execute(\"SELECT * FROM t WHERE v = %s\", (specific_value,))\n",
    "\n",
    "# Obter o resultado da consulta\n",
    "result = cursor.fetchall()\n",
    "\n",
    "# Calcular o tempo de execução\n",
    "execution_time = time.time() - start_time\n",
    "\n",
    "# Imprimir o resultado e o tempo de execução\n",
    "print(\"Consulta retornou {} tuplas.\".format(len(result)))\n",
    "print(\"Tempo de execução: {:.4f} segundos.\".format(execution_time))\n",
    "\n",
    "# Fechar cursor\n",
    "cursor.close()"
   ]
  },
  {
   "cell_type": "markdown",
   "id": "1bc92359",
   "metadata": {},
   "source": [
    "### Qual o tempo gasto para recriar um índice para o atributo ‘v’?\n"
   ]
  },
  {
   "cell_type": "code",
   "execution_count": 27,
   "id": "2432c05a",
   "metadata": {},
   "outputs": [
    {
     "name": "stdout",
     "output_type": "stream",
     "text": [
      "Tempo de execução para recriar o índice: 0.5053 segundos.\n"
     ]
    }
   ],
   "source": [
    "# Criar cursor\n",
    "cursor = conn.cursor()\n",
    "\n",
    "# Medir o tempo de execução da criação do índice\n",
    "start_time = time.time()\n",
    "\n",
    "# Recriar o índice para o atributo 'v'\n",
    "cursor.execute(\"DROP INDEX IF EXISTS idx_v\")\n",
    "cursor.execute(\"CREATE INDEX idx_v ON t(v)\")\n",
    "\n",
    "# Calcular o tempo de execução\n",
    "execution_time = time.time() - start_time\n",
    "\n",
    "# Imprimir o tempo de execução\n",
    "print(\"Tempo de execução para recriar o índice: {:.4f} segundos.\".format(execution_time))\n",
    "\n",
    "# Fechar cursor\n",
    "cursor.close()\n",
    "conn.close()"
   ]
  },
  {
   "cell_type": "markdown",
   "id": "3d59f97b",
   "metadata": {},
   "source": [
    "## Tarefa 14"
   ]
  },
  {
   "cell_type": "markdown",
   "id": "d427645c",
   "metadata": {},
   "source": [
    "### 100000 tuplas"
   ]
  },
  {
   "cell_type": "code",
   "execution_count": 28,
   "id": "b0d18439",
   "metadata": {},
   "outputs": [
    {
     "name": "stdout",
     "output_type": "stream",
     "text": [
      "Tabela 't' criada e populada com sucesso!\n",
      "\n",
      "Índice: t_fillfactor_60\n",
      "  Tempo de execução: 0.315..2.305 segundos\n",
      "  Quantidade de linhas retornadas: 500\n",
      "\n",
      "Índice: t_fillfactor_80\n",
      "  Tempo de execução: 0.365..2.484 segundos\n",
      "  Quantidade de linhas retornadas: 500\n",
      "\n",
      "Índice: t_fillfactor_90\n",
      "  Tempo de execução: 0.332..2.065 segundos\n",
      "  Quantidade de linhas retornadas: 500\n",
      "\n",
      "Índice: t_fillfactor_100\n",
      "  Tempo de execução: 0.336..2.080 segundos\n",
      "  Quantidade de linhas retornadas: 500\n",
      "\n"
     ]
    }
   ],
   "source": [
    "import psycopg2\n",
    "\n",
    "# Estabelecer conexão com o PostgreSQL\n",
    "connection = psycopg2.connect(\n",
    "    host=DEFAULT_HOST,\n",
    "    port=DEFAULT_PORT,\n",
    "    user=DEFAULT_USERNAME,\n",
    "    password=DEFAULT_PASSWORD,\n",
    "    database=DEFAULT_DBNAME\n",
    ")\n",
    "\n",
    "# Criar a tabela \"t\" e popula com os dados necessários\n",
    "create_table_query = \"\"\"\n",
    "DROP TABLE IF EXISTS t;\n",
    "CREATE TABLE t (k serial PRIMARY KEY, v integer);\n",
    "INSERT INTO t (v)\n",
    "SELECT trunc(random() * 10) FROM generate_series(1, 100000);\n",
    "\"\"\"\n",
    "with connection.cursor() as cursor:\n",
    "    cursor.execute(create_table_query)\n",
    "connection.commit()\n",
    "print(\"Tabela 't' criada e populada com sucesso!\\n\")\n",
    "\n",
    "# Criar índices na tabela \"t\" com diferentes valores de fillfactor\n",
    "fillfactors = [60, 80, 90, 100]\n",
    "for fillfactor in fillfactors:\n",
    "    index_name = f\"t_fillfactor_{fillfactor}\"\n",
    "    create_index_query = f\"\"\"\n",
    "    CREATE INDEX {index_name} ON t (v) WITH (fillfactor={fillfactor});\n",
    "    \"\"\"\n",
    "    with connection.cursor() as cursor:\n",
    "        cursor.execute(create_index_query)\n",
    "    connection.commit()\n",
    "\n",
    "# Executar as consultas e analisar o desempenho\n",
    "select_query = \"\"\"\n",
    "SELECT * FROM t WHERE v = 5;\n",
    "\"\"\"\n",
    "for fillfactor in fillfactors:\n",
    "    index_name = f\"t_fillfactor_{fillfactor}\"\n",
    "    explain_query = f\"EXPLAIN (ANALYZE, BUFFERS) {select_query}\"\n",
    "    with connection.cursor() as cursor:\n",
    "        cursor.execute(explain_query)\n",
    "        result = cursor.fetchone()\n",
    "        print(f\"Índice: {index_name}\")\n",
    "        execution_time = result[0].split(\"actual time=\")[1].split(\" \")[0]\n",
    "        print(f\"  Tempo de execução: {execution_time} segundos\")\n",
    "        print(f\"  Quantidade de linhas retornadas: {result[0].split('rows=')[1].split(' ')[0]}\")\n",
    "        print()\n",
    "\n",
    "# Fechar a conexão\n",
    "connection.close()\n"
   ]
  },
  {
   "cell_type": "markdown",
   "id": "c2df3036",
   "metadata": {},
   "source": [
    "### 1000000 tuplas"
   ]
  },
  {
   "cell_type": "code",
   "execution_count": 71,
   "id": "8b8c99aa",
   "metadata": {},
   "outputs": [
    {
     "name": "stdout",
     "output_type": "stream",
     "text": [
      "Tabela 't' criada e populada com sucesso!\n",
      "\n",
      "Índice: t_fillfactor_60\n",
      "  Tempo de execução: 2.112..14.174 segundos\n",
      "  Quantidade de linhas retornadas: 5000\n",
      "\n",
      "Índice: t_fillfactor_80\n",
      "  Tempo de execução: 2.011..13.671 segundos\n",
      "  Quantidade de linhas retornadas: 5000\n",
      "\n",
      "Índice: t_fillfactor_90\n",
      "  Tempo de execução: 1.938..13.337 segundos\n",
      "  Quantidade de linhas retornadas: 5000\n",
      "\n",
      "Índice: t_fillfactor_100\n",
      "  Tempo de execução: 1.907..13.172 segundos\n",
      "  Quantidade de linhas retornadas: 5000\n",
      "\n"
     ]
    }
   ],
   "source": [
    "import psycopg2\n",
    "\n",
    "# Estabelecer conexão com o PostgreSQL\n",
    "connection = psycopg2.connect(\n",
    "    host=DEFAULT_HOST,\n",
    "    port=DEFAULT_PORT,\n",
    "    user=DEFAULT_USERNAME,\n",
    "    password=DEFAULT_PASSWORD,\n",
    "    database=DEFAULT_DBNAME\n",
    ")\n",
    "\n",
    "# Criar a tabela \"t\" e popula com os dados necessários\n",
    "create_table_query = \"\"\"\n",
    "DROP TABLE IF EXISTS t;\n",
    "CREATE TABLE t (k serial PRIMARY KEY, v integer);\n",
    "INSERT INTO t (v)\n",
    "SELECT trunc(random() * 10) FROM generate_series(1, 1000000);\n",
    "\"\"\"\n",
    "with connection.cursor() as cursor:\n",
    "    cursor.execute(create_table_query)\n",
    "connection.commit()\n",
    "print(\"Tabela 't' criada e populada com sucesso!\\n\")\n",
    "\n",
    "# Criar índices na tabela \"t\" com diferentes valores de fillfactor\n",
    "fillfactors = [60, 80, 90, 100]\n",
    "for fillfactor in fillfactors:\n",
    "    index_name = f\"t_fillfactor_{fillfactor}\"\n",
    "    create_index_query = f\"\"\"\n",
    "    CREATE INDEX {index_name} ON t (v) WITH (fillfactor={fillfactor});\n",
    "    \"\"\"\n",
    "    with connection.cursor() as cursor:\n",
    "        cursor.execute(create_index_query)\n",
    "    connection.commit()\n",
    "\n",
    "# Executar as consultas e analisar o desempenho\n",
    "select_query = \"\"\"\n",
    "SELECT * FROM t WHERE v = 5;\n",
    "\"\"\"\n",
    "for fillfactor in fillfactors:\n",
    "    index_name = f\"t_fillfactor_{fillfactor}\"\n",
    "    explain_query = f\"EXPLAIN (ANALYZE, BUFFERS) {select_query}\"\n",
    "    with connection.cursor() as cursor:\n",
    "        cursor.execute(explain_query)\n",
    "        result = cursor.fetchone()\n",
    "        print(f\"Índice: {index_name}\")\n",
    "        execution_time = result[0].split(\"actual time=\")[1].split(\" \")[0]\n",
    "        print(f\"  Tempo de execução: {execution_time} segundos\")\n",
    "        print(f\"  Quantidade de linhas retornadas: {result[0].split('rows=')[1].split(' ')[0]}\")\n",
    "        print()\n",
    "\n",
    "# Fechar a conexão\n",
    "connection.close()\n"
   ]
  },
  {
   "cell_type": "markdown",
   "id": "087247e3",
   "metadata": {},
   "source": [
    "## Tarefa 15"
   ]
  },
  {
   "cell_type": "markdown",
   "id": "9b2916e4",
   "metadata": {},
   "source": [
    "## Tarefa 16"
   ]
  },
  {
   "cell_type": "markdown",
   "id": "c06ce0d1",
   "metadata": {},
   "source": [
    "## Tarefa 17"
   ]
  },
  {
   "cell_type": "markdown",
   "id": "00cc6ec7",
   "metadata": {},
   "source": [
    "## Tarefa 18"
   ]
  },
  {
   "cell_type": "markdown",
   "id": "f3a88645",
   "metadata": {},
   "source": [
    "## Tarefa 19"
   ]
  },
  {
   "cell_type": "markdown",
   "id": "979fdf0a",
   "metadata": {},
   "source": [
    "## Tarefa 20"
   ]
  },
  {
   "cell_type": "markdown",
   "id": "9f66fedb",
   "metadata": {},
   "source": [
    "## Tarefa 21"
   ]
  },
  {
   "cell_type": "markdown",
   "id": "fd02932c",
   "metadata": {},
   "source": [
    "## Tarefa 22"
   ]
  },
  {
   "cell_type": "markdown",
   "id": "4a61dae6",
   "metadata": {},
   "source": [
    "## Tarefa 23"
   ]
  },
  {
   "cell_type": "markdown",
   "id": "84a78af7",
   "metadata": {},
   "source": [
    "## Tarefa 24"
   ]
  },
  {
   "cell_type": "markdown",
   "id": "cc7dff2c",
   "metadata": {},
   "source": [
    "## Tarefa 25"
   ]
  },
  {
   "cell_type": "markdown",
   "id": "41ee395f",
   "metadata": {},
   "source": [
    "## Tarefa 26"
   ]
  }
 ],
 "metadata": {
  "kernelspec": {
   "display_name": "Python 3 (ipykernel)",
   "language": "python",
   "name": "python3"
  },
  "language_info": {
   "codemirror_mode": {
    "name": "ipython",
    "version": 3
   },
   "file_extension": ".py",
   "mimetype": "text/x-python",
   "name": "python",
   "nbconvert_exporter": "python",
   "pygments_lexer": "ipython3",
   "version": "3.10.6"
  }
 },
 "nbformat": 4,
 "nbformat_minor": 5
}
