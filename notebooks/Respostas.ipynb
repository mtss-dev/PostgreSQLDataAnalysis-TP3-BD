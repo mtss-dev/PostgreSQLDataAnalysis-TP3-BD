{
 "cells": [
  {
   "cell_type": "markdown",
   "id": "6d8a8c7a",
   "metadata": {},
   "source": [
    "# Alunos\n",
    "\n",
    "Matheus Dos Santos Palheta -22052572 <br>\n",
    "Matheus Silva dos Santos - 22052573 <br>\n",
    "Vinícius Luiz Nunes da Fonseca - 22050031"
   ]
  },
  {
   "cell_type": "markdown",
   "id": "d30b8ea8",
   "metadata": {},
   "source": [
    "## Tarefa 1"
   ]
  },
  {
   "cell_type": "markdown",
   "id": "c497c7e0",
   "metadata": {},
   "source": [
    "### Saída de instalação do PostgreSQL"
   ]
  },
  {
   "cell_type": "markdown",
   "id": "96ee8edc",
   "metadata": {},
   "source": [
    "A instalação do PostgreSQL foi feita diretamente do site oficial, inclusive dentro do container docker criado! <br>\n",
    "Foi gerado o seguinte log no terminal após a instalação:"
   ]
  },
  {
   "cell_type": "code",
   "execution_count": null,
   "id": "a21ab996",
   "metadata": {},
   "outputs": [],
   "source": [
    "!pg_config --version"
   ]
  },
  {
   "cell_type": "markdown",
   "id": "497e7912",
   "metadata": {},
   "source": [
    "## Tarefa 2"
   ]
  },
  {
   "cell_type": "markdown",
   "id": "3d93bafc",
   "metadata": {},
   "source": [
    "### Fase de preparação"
   ]
  },
  {
   "cell_type": "code",
   "execution_count": null,
   "id": "32b51cbb",
   "metadata": {},
   "outputs": [],
   "source": [
    "%cd /app/datadir/tpch/\n",
    "\n",
    "%run tpch_pgsql.py prepare"
   ]
  },
  {
   "cell_type": "markdown",
   "id": "b26e2041",
   "metadata": {},
   "source": [
    "### Fase de carregamento"
   ]
  },
  {
   "cell_type": "code",
   "execution_count": null,
   "id": "99fb557d",
   "metadata": {},
   "outputs": [],
   "source": [
    "%cd /app/datadir/tpch/\n",
    "\n",
    "%run tpch_pgsql.py load"
   ]
  },
  {
   "cell_type": "markdown",
   "id": "29100529",
   "metadata": {},
   "source": [
    "## Tarefa 3"
   ]
  },
  {
   "cell_type": "markdown",
   "id": "85393452",
   "metadata": {},
   "source": [
    "### Execução das consultas"
   ]
  },
  {
   "cell_type": "code",
   "execution_count": null,
   "id": "63bd0955",
   "metadata": {},
   "outputs": [],
   "source": [
    "%cd /app/datadir/tpch/\n",
    "\n",
    "%run tpch_pgsql.py query "
   ]
  },
  {
   "cell_type": "markdown",
   "id": "5a7269de",
   "metadata": {},
   "source": [
    "## Tarefa 4"
   ]
  },
  {
   "cell_type": "markdown",
   "id": "a78c5ba2",
   "metadata": {},
   "source": [
    "### Informações Sistema Operacional:\n",
    "\n",
    "PRETTY_NAME=\"Ubuntu 22.04.2 LTS\" <br>\n",
    "VERSION=\"22.04.2 LTS (Jammy Jellyfish)\"<br>\n",
    "ID=ubuntu<br>\n",
    "ID_LIKE=debian<br>\n",
    "HOME_URL=\"https://www.ubuntu.com/\"<br>\n",
    "SUPPORT_URL=\"https://help.ubuntu.com/\"<br>\n",
    "BUG_REPORT_URL=\"https://bugs.launchpad.net/ubuntu/\"<br>\n",
    "PRIVACY_POLICY_URL=\"https://www.ubuntu.com/legal/terms-and-policies/privacy-policy\"<br>\n",
    "UBUNTU_CODENAME=jammy<br>"
   ]
  },
  {
   "cell_type": "markdown",
   "id": "b7683be1",
   "metadata": {},
   "source": [
    "### informações CPU\n",
    "Architecture:            x86_64 <br>\n",
    "  Address sizes:         48 bits physical, 48 bits virtual<br>\n",
    "  Byte Order:            Little Endian<br>\n",
    "Vendor ID:               AuthenticAMD<br>\n",
    "  Model name:            AMD Ryzen 5 5600G with Radeon Graphics<br>\n",
    "    CPU family:          25<br>\n",
    "    Model:               80<br>\n",
    "    Thread(s) per core:  2<br>\n",
    "    Core(s) per socket:  6<br>\n",
    "    Socket(s):           1<br>\n",
    "    Stepping:            0<br>\n",
    "    BogoMIPS:            7785.09<br>"
   ]
  },
  {
   "cell_type": "markdown",
   "id": "95966847",
   "metadata": {},
   "source": [
    "### Informação memória\n",
    "\n",
    "      total        used        free      shared  buff/cache   available\n",
    "      6.7Gi       671Mi       5.2Gi        16Mi       852Mi       5.8Gi mem\n",
    "      2.0Gi          0B       2.0Gi                                     swap\n",
    "      \n",
    "      Filesystem      Size  Used Avail Use% Mounted on\n",
    "      drvfs           475G  338G  138G  72% /mnt/c"
   ]
  },
  {
   "cell_type": "markdown",
   "id": "6f552348",
   "metadata": {},
   "source": [
    "## Tarefa 5"
   ]
  },
  {
   "cell_type": "markdown",
   "id": "e26d5f72",
   "metadata": {},
   "source": [
    "## Tarefa 6"
   ]
  },
  {
   "cell_type": "markdown",
   "id": "091a2200",
   "metadata": {},
   "source": [
    "| Característica                                 | Descrição                                                                                                                                                                                                                          |\n",
    "|-----------------------------------------------|------------------------------------------------------------------------------------------------------------------------------------------------------------------------------------------------------------------------------------|\n",
    "| Modelo de Armazenamento                        | O PostgreSQL utiliza o modelo de armazenamento relacional, baseado em tabelas, colunas e linhas, seguindo os princípios do modelo ACID (Atomicidade, Consistência, Isolamento e Durabilidade).                                      |\n",
    "| Formato de Armazenamento                       | O PostgreSQL armazena os dados em páginas de tamanho fixo (geralmente 8 KB por página), onde cada página pode conter várias tuplas. Os dados são organizados em segmentos, tablespaces e bancos de dados.                          |\n",
    "| Controle de Acesso aos Dados                   | O PostgreSQL oferece um sistema de controle de acesso robusto e flexível, permitindo a definição de permissões de acesso a nível de objeto (tabelas, colunas, etc.) e a nível de usuário/grupo.                                     |\n",
    "| Indexação de Dados                             | O PostgreSQL suporta vários tipos de índices, incluindo índices B-tree, hash, GIN (Generalized Inverted Index) e GiST (Generalized Search Tree), permitindo a otimização do acesso aos dados em diferentes cenários.               |\n",
    "| Compressão de Dados                            | O PostgreSQL oferece suporte à compressão de dados por meio de técnicas como TOAST (The Oversized-Attribute Storage Technique) e tabelas particionadas, permitindo economia de espaço de armazenamento.                             |\n",
    "| Gerenciamento de Espaço em Disco               | O PostgreSQL utiliza um sistema de gerenciamento de espaço em disco que aloca automaticamente espaço para novos dados e realiza reutilização de espaço para dados removidos ou atualizados.                                         |\n",
    "| Recuperação de Falhas (Recovery)               | O PostgreSQL possui um mecanismo de recuperação robusto, com suporte a logs de transação (WAL - Write-Ahead Logging) que permite a recuperação do banco de dados para um estado consistente após uma falha.                         |\n",
    "| Replicação de Dados                            | O PostgreSQL oferece várias opções de replicação de dados, incluindo replicação baseada em registros (Streaming Replication), replicação síncrona e assíncrona, permitindo alta disponibilidade e escalabilidade.                      |\n",
    "| Particionamento de Tabelas                     | O PostgreSQL suporta o particionamento de tabelas, permitindo que grandes conjuntos de dados sejam divididos em partições menores com base em um critério especificado, o que facilita o gerenciamento de grandes volumes de dados. |\n",
    "| Recursos Avançados de Consulta e Otimização    | O PostgreSQL possui um otimizador de consultas avançado que analisa as consultas submetidas e escolhe o plano de execução mais eficiente. Além disso, oferece recursos como estatísticas de tabelas, views materializadas e otimização de expressões.  |\n"
   ]
  },
  {
   "cell_type": "markdown",
   "id": "62a5f9cd",
   "metadata": {},
   "source": [
    "## Tarefa 7"
   ]
  },
  {
   "cell_type": "markdown",
   "id": "ddfba233",
   "metadata": {},
   "source": [
    "| Sistema de Arquivo | Descrição | Capacidade Máxima de Arquivo | Capacidade Máxima de Sistema de Arquivo | Journaling | Fragmentação | Suporte a ACLs | Compressão | Transações |\n",
    "|--------------------|-----------|------------------------------|---------------------------------------|------------|--------------|----------------|------------|------------|\n",
    "| Ext2               | O Ext2 é um sistema de arquivos de primeira geração para o Linux. | 2 TB | 4 TB | Não | Propenso à fragmentação | Não | Não | Não |\n",
    "| Ext3               | O Ext3 é uma extensão do Ext2 que adiciona journaling para maior segurança. | 2 TB | 4 TB | Sim | Propenso à fragmentação | Não | Não | Não |\n",
    "| ReiserFS           | O ReiserFS é um sistema de arquivos de alto desempenho, conhecido por sua rápida manipulação de pequenos arquivos. | 8 TB | 16 TB | Sim | Melhor desempenho com arquivos pequenos | Sim | Não | Não |\n",
    "| XFS                | O XFS é um sistema de arquivos de alto desempenho, otimizado para escalabilidade e grandes sistemas de armazenamento. | 8 EB | 8 EB | Sim | Melhor desempenho com arquivos grandes | Sim | Sim | Sim |\n",
    "\n",
    "Observações:\n",
    "\n",
    "    Capacidade máxima de arquivo refere-se ao tamanho máximo de um único arquivo suportado pelo sistema de arquivos.\n",
    "    Capacidade máxima de sistema de arquivos refere-se ao tamanho máximo total do sistema de arquivos.\n",
    "    Journaling refere-se à técnica de registro de transações para garantir a consistência dos dados após falhas de energia ou reinicializações inesperadas.\n",
    "    Fragmentação indica a tendência do sistema de arquivos em fragmentar os arquivos em várias partes físicas do disco.\n",
    "    ACLs (Access Control Lists) permitem a atribuição de permissões mais granulares a arquivos e diretórios.\n",
    "    Compressão indica se o sistema de arquivos suporta compressão de dados para economizar espaço de armazenamento.\n",
    "    Transações referem-se à capacidade do sistema de arquivos de executar operações atômicas (tudo ou nada)."
   ]
  },
  {
   "cell_type": "markdown",
   "id": "3dab85c6",
   "metadata": {},
   "source": [
    "## Tarefa 8"
   ]
  },
  {
   "cell_type": "markdown",
   "id": "efba4e14",
   "metadata": {},
   "source": [
    "## Tarefa 9"
   ]
  },
  {
   "cell_type": "markdown",
   "id": "fbf008e2",
   "metadata": {},
   "source": [
    "## Tarefa 10"
   ]
  },
  {
   "cell_type": "code",
   "execution_count": 1,
   "id": "ac2c73a2",
   "metadata": {},
   "outputs": [
    {
     "name": "stdout",
     "output_type": "stream",
     "text": [
      "/app/datadir/scripts/tabela_t\n",
      "Tabela populada com sucesso!\n",
      "k = 1 v = 4\n",
      "k = 2 v = 3\n",
      "k = 3 v = 8\n",
      "k = 4 v = 9\n",
      "k = 5 v = 8\n",
      "k = 6 v = 8\n",
      "k = 7 v = 6\n",
      "k = 8 v = 1\n",
      "k = 9 v = 5\n",
      "k = 10 v = 6\n"
     ]
    }
   ],
   "source": [
    "%cd /app/datadir/scripts/tabela_t\n",
    "\n",
    "%run cria_tabela.py"
   ]
  },
  {
   "cell_type": "markdown",
   "id": "a63c1116",
   "metadata": {},
   "source": [
    "## Tarefa 11"
   ]
  },
  {
   "cell_type": "code",
   "execution_count": 2,
   "id": "6a17113a",
   "metadata": {},
   "outputs": [
    {
     "name": "stdout",
     "output_type": "stream",
     "text": [
      "/app/datadir/scripts/tabela_t\n",
      "Tabela:  t\n",
      "Número de páginas:  443\n",
      "Número de tuplas:  100000.0\n"
     ]
    }
   ],
   "source": [
    "%cd /app/datadir/scripts/tabela_t\n",
    "\n",
    "%run numero_paginas.py"
   ]
  },
  {
   "cell_type": "markdown",
   "id": "f6a8dcf9",
   "metadata": {},
   "source": [
    "## Tarefa 12"
   ]
  },
  {
   "cell_type": "code",
   "execution_count": 3,
   "id": "7e0f1875",
   "metadata": {},
   "outputs": [
    {
     "name": "stdout",
     "output_type": "stream",
     "text": [
      "/app/datadir/scripts/tabela_t\n",
      "Número de blocos usados: 3\n"
     ]
    }
   ],
   "source": [
    "%cd /app/datadir/scripts/tabela_t\n",
    "\n",
    "%run numero_blocos.py"
   ]
  },
  {
   "cell_type": "markdown",
   "id": "887bb856",
   "metadata": {},
   "source": [
    "## Tarefa 13"
   ]
  },
  {
   "cell_type": "markdown",
   "id": "75e66b67",
   "metadata": {},
   "source": [
    "### Qual o tempo gasto para realizar uma consulta para um valor (tendo a tabela 100000 tuplas)?\n",
    "### Qual o tempo gasto para recriar um índice para o atributo ‘v’?\n"
   ]
  },
  {
   "cell_type": "code",
   "execution_count": 4,
   "id": "2c2362e7",
   "metadata": {
    "scrolled": true
   },
   "outputs": [
    {
     "name": "stdout",
     "output_type": "stream",
     "text": [
      "/app/datadir/scripts/tabela_t\n",
      "Tempo gasto para realizar a consulta: 0.0042 segundos\n",
      "Tempo gasto para recriar o índice: 0.0489 segundos\n"
     ]
    }
   ],
   "source": [
    "%cd /app/datadir/scripts/tabela_t\n",
    "\n",
    "%run tempo_100000.py"
   ]
  },
  {
   "cell_type": "markdown",
   "id": "bb2780ae",
   "metadata": {},
   "source": [
    "### Remova a tabela ‘t’ e crie novamente com 1.0000.000 de tuplas\n",
    "### Qual o tempo gasto para realizar uma consulta para um valor específico?\n",
    "### Qual o tempo gasto para recriar um índice para o atributo ‘v’?\n"
   ]
  },
  {
   "cell_type": "code",
   "execution_count": 5,
   "id": "839ff7ee",
   "metadata": {},
   "outputs": [
    {
     "name": "stdout",
     "output_type": "stream",
     "text": [
      "/app/datadir/scripts/tabela_t\n",
      "Tabela recriada com sucesso!\n",
      "Tempo de execução: 0.0577 segundos.\n",
      "Tempo de execução para recriar o índice: 0.3098 segundos.\n"
     ]
    }
   ],
   "source": [
    "%cd /app/datadir/scripts/tabela_t\n",
    "\n",
    "%run tempo_1000000.py"
   ]
  },
  {
   "cell_type": "markdown",
   "id": "3d59f97b",
   "metadata": {},
   "source": [
    "## Tarefa 14"
   ]
  },
  {
   "cell_type": "markdown",
   "id": "d427645c",
   "metadata": {},
   "source": [
    "### 100.000 tuplas"
   ]
  },
  {
   "cell_type": "code",
   "execution_count": 6,
   "id": "b0d18439",
   "metadata": {},
   "outputs": [
    {
     "name": "stdout",
     "output_type": "stream",
     "text": [
      "/app/datadir/scripts/tabela_t\n",
      "Tabela 't' criada e populada com sucesso!\n",
      "\n",
      "Índice: t_fillfactor_60\n",
      "  Tempo de execução: 0.246..1.559 segundos\n",
      "  Quantidade de linhas retornadas: 500\n",
      "\n",
      "Índice: t_fillfactor_80\n",
      "  Tempo de execução: 0.228..1.151 segundos\n",
      "  Quantidade de linhas retornadas: 500\n",
      "\n",
      "Índice: t_fillfactor_90\n",
      "  Tempo de execução: 0.158..0.907 segundos\n",
      "  Quantidade de linhas retornadas: 500\n",
      "\n",
      "Índice: t_fillfactor_100\n",
      "  Tempo de execução: 0.153..0.901 segundos\n",
      "  Quantidade de linhas retornadas: 500\n",
      "\n"
     ]
    }
   ],
   "source": [
    "%cd /app/datadir/scripts/tabela_t\n",
    "\n",
    "%run fill_factor_100000.py"
   ]
  },
  {
   "cell_type": "markdown",
   "id": "c2df3036",
   "metadata": {},
   "source": [
    "### 1.000.000 tuplas"
   ]
  },
  {
   "cell_type": "code",
   "execution_count": 7,
   "id": "8b8c99aa",
   "metadata": {},
   "outputs": [
    {
     "name": "stdout",
     "output_type": "stream",
     "text": [
      "/app/datadir/scripts/tabela_t\n",
      "Tabela 't' criada e populada com sucesso!\n",
      "\n",
      "Índice: t_fillfactor_60\n",
      "  Tempo de execução: 2.133..14.541 segundos\n",
      "  Quantidade de linhas retornadas: 5000\n",
      "\n",
      "Índice: t_fillfactor_80\n",
      "  Tempo de execução: 2.080..14.051 segundos\n",
      "  Quantidade de linhas retornadas: 5000\n",
      "\n",
      "Índice: t_fillfactor_90\n",
      "  Tempo de execução: 1.943..13.675 segundos\n",
      "  Quantidade de linhas retornadas: 5000\n",
      "\n",
      "Índice: t_fillfactor_100\n",
      "  Tempo de execução: 1.943..13.882 segundos\n",
      "  Quantidade de linhas retornadas: 5000\n",
      "\n"
     ]
    }
   ],
   "source": [
    "%cd /app/datadir/scripts/tabela_t\n",
    "\n",
    "%run fill_factor_1000000.py"
   ]
  },
  {
   "cell_type": "markdown",
   "id": "087247e3",
   "metadata": {},
   "source": [
    "## Tarefa 15"
   ]
  },
  {
   "cell_type": "markdown",
   "id": "9b2916e4",
   "metadata": {},
   "source": [
    "## Tarefa 16"
   ]
  },
  {
   "cell_type": "markdown",
   "id": "ff8a648a",
   "metadata": {},
   "source": [
    "### repetindo tarefas 11, 12 e 13 com indice decrescente para 100.000 tuplas"
   ]
  },
  {
   "cell_type": "code",
   "execution_count": 2,
   "id": "9c4ce49a",
   "metadata": {},
   "outputs": [
    {
     "name": "stdout",
     "output_type": "stream",
     "text": [
      "/app/datadir/scripts/tabela_t\n",
      "Tabela 't' criada e populada com sucesso!\n",
      "\n",
      "Índice criado com sucesso!\n",
      "\n",
      "Número de blocos usados:  3\n",
      "\n",
      "Índice: t_fillfactor_60\n",
      "  Tempo de execução: 0.203..1.420 segundos\n",
      "  Quantidade de linhas retornadas: 500\n",
      "\n",
      "Índice: t_fillfactor_80\n",
      "  Tempo de execução: 0.203..1.162 segundos\n",
      "  Quantidade de linhas retornadas: 500\n",
      "\n",
      "Índice: t_fillfactor_90\n",
      "  Tempo de execução: 0.157..0.905 segundos\n",
      "  Quantidade de linhas retornadas: 500\n",
      "\n",
      "Índice: t_fillfactor_100\n",
      "  Tempo de execução: 0.151..0.912 segundos\n",
      "  Quantidade de linhas retornadas: 500\n",
      "\n",
      "Tempo gasto para realizar a consulta: 0.0041 segundos\n",
      "Tempo gasto para recriar o índice: 0.0510 segundos\n"
     ]
    }
   ],
   "source": [
    "%cd /app/datadir/scripts/tabela_t\n",
    "\n",
    "%run indice_decrescente_100000.py"
   ]
  },
  {
   "cell_type": "markdown",
   "id": "34a03e61",
   "metadata": {},
   "source": [
    "### repetindo tarefas 11, 12 e 13 com indice decrescente para 1.000.000 tuplas"
   ]
  },
  {
   "cell_type": "code",
   "execution_count": 3,
   "id": "0e7e8e01",
   "metadata": {},
   "outputs": [
    {
     "name": "stdout",
     "output_type": "stream",
     "text": [
      "/app/datadir/scripts/tabela_t\n",
      "Tabela 't' criada e populada com sucesso!\n",
      "\n",
      "Índice criado com sucesso!\n",
      "\n",
      "Número de blocos usados:  4\n",
      "\n",
      "Índice: t_fillfactor_60\n",
      "  Tempo de execução: 2.118..14.490 segundos\n",
      "  Quantidade de linhas retornadas: 5000\n",
      "\n",
      "Índice: t_fillfactor_80\n",
      "  Tempo de execução: 2.064..13.897 segundos\n",
      "  Quantidade de linhas retornadas: 5000\n",
      "\n",
      "Índice: t_fillfactor_90\n",
      "  Tempo de execução: 1.932..13.702 segundos\n",
      "  Quantidade de linhas retornadas: 5000\n",
      "\n",
      "Índice: t_fillfactor_100\n",
      "  Tempo de execução: 1.923..13.264 segundos\n",
      "  Quantidade de linhas retornadas: 5000\n",
      "\n",
      "Tempo gasto para realizar a consulta: 0.0646 segundos\n",
      "Tempo gasto para recriar o índice: 0.3026 segundos\n"
     ]
    }
   ],
   "source": [
    "%cd /app/datadir/scripts/tabela_t\n",
    "\n",
    "%run indice_decrescente_1000000.py"
   ]
  },
  {
   "cell_type": "markdown",
   "id": "c06ce0d1",
   "metadata": {},
   "source": [
    "## Tarefa 17"
   ]
  },
  {
   "cell_type": "markdown",
   "id": "00cc6ec7",
   "metadata": {},
   "source": [
    "## Tarefa 18"
   ]
  },
  {
   "cell_type": "markdown",
   "id": "f3a88645",
   "metadata": {},
   "source": [
    "## Tarefa 19"
   ]
  },
  {
   "cell_type": "markdown",
   "id": "979fdf0a",
   "metadata": {},
   "source": [
    "## Tarefa 20"
   ]
  },
  {
   "cell_type": "markdown",
   "id": "9f66fedb",
   "metadata": {},
   "source": [
    "## Tarefa 21"
   ]
  },
  {
   "cell_type": "markdown",
   "id": "fd02932c",
   "metadata": {},
   "source": [
    "## Tarefa 22"
   ]
  },
  {
   "cell_type": "markdown",
   "id": "4a61dae6",
   "metadata": {},
   "source": [
    "## Tarefa 23"
   ]
  },
  {
   "cell_type": "markdown",
   "id": "84a78af7",
   "metadata": {},
   "source": [
    "## Tarefa 24"
   ]
  },
  {
   "cell_type": "markdown",
   "id": "cc7dff2c",
   "metadata": {},
   "source": [
    "## Tarefa 25"
   ]
  },
  {
   "cell_type": "markdown",
   "id": "41ee395f",
   "metadata": {},
   "source": [
    "## Tarefa 26"
   ]
  }
 ],
 "metadata": {
  "kernelspec": {
   "display_name": "Python 3 (ipykernel)",
   "language": "python",
   "name": "python3"
  },
  "language_info": {
   "codemirror_mode": {
    "name": "ipython",
    "version": 3
   },
   "file_extension": ".py",
   "mimetype": "text/x-python",
   "name": "python",
   "nbconvert_exporter": "python",
   "pygments_lexer": "ipython3",
   "version": "3.10.6"
  }
 },
 "nbformat": 4,
 "nbformat_minor": 5
}
